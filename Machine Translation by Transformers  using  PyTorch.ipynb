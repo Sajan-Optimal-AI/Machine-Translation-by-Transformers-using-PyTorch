{
  "nbformat": 4,
  "nbformat_minor": 0,
  "metadata": {
    "colab": {
      "name": "Machine Translation by Transformers.Framework:PyTorch",
      "provenance": [],
      "collapsed_sections": []
    },
    "kernelspec": {
      "name": "python3",
      "display_name": "Python 3"
    },
    "language_info": {
      "name": "python"
    },
    "widgets": {
      "application/vnd.jupyter.widget-state+json": {
        "27837fdba94444568802c80a50bbd6d2": {
          "model_module": "@jupyter-widgets/controls",
          "model_name": "HBoxModel",
          "state": {
            "_view_name": "HBoxView",
            "_dom_classes": [],
            "_model_name": "HBoxModel",
            "_view_module": "@jupyter-widgets/controls",
            "_model_module_version": "1.5.0",
            "_view_count": null,
            "_view_module_version": "1.5.0",
            "box_style": "",
            "layout": "IPY_MODEL_4b2a520c916d4ebbad84680d53afa0a4",
            "_model_module": "@jupyter-widgets/controls",
            "children": [
              "IPY_MODEL_8a2919fd0ebe4f4585ad3912b2ace5db",
              "IPY_MODEL_4c696de9129e4875927bee16758fd597"
            ]
          }
        },
        "4b2a520c916d4ebbad84680d53afa0a4": {
          "model_module": "@jupyter-widgets/base",
          "model_name": "LayoutModel",
          "state": {
            "_view_name": "LayoutView",
            "grid_template_rows": null,
            "right": null,
            "justify_content": null,
            "_view_module": "@jupyter-widgets/base",
            "overflow": null,
            "_model_module_version": "1.2.0",
            "_view_count": null,
            "flex_flow": null,
            "width": null,
            "min_width": null,
            "border": null,
            "align_items": null,
            "bottom": null,
            "_model_module": "@jupyter-widgets/base",
            "top": null,
            "grid_column": null,
            "overflow_y": null,
            "overflow_x": null,
            "grid_auto_flow": null,
            "grid_area": null,
            "grid_template_columns": null,
            "flex": null,
            "_model_name": "LayoutModel",
            "justify_items": null,
            "grid_row": null,
            "max_height": null,
            "align_content": null,
            "visibility": null,
            "align_self": null,
            "height": null,
            "min_height": null,
            "padding": null,
            "grid_auto_rows": null,
            "grid_gap": null,
            "max_width": null,
            "order": null,
            "_view_module_version": "1.2.0",
            "grid_template_areas": null,
            "object_position": null,
            "object_fit": null,
            "grid_auto_columns": null,
            "margin": null,
            "display": null,
            "left": null
          }
        },
        "8a2919fd0ebe4f4585ad3912b2ace5db": {
          "model_module": "@jupyter-widgets/controls",
          "model_name": "FloatProgressModel",
          "state": {
            "_view_name": "ProgressView",
            "style": "IPY_MODEL_4ed213b9d6c44d25a348f83cadfcdebd",
            "_dom_classes": [],
            "description": "100%",
            "_model_name": "FloatProgressModel",
            "bar_style": "success",
            "max": 11,
            "_view_module": "@jupyter-widgets/controls",
            "_model_module_version": "1.5.0",
            "value": 11,
            "_view_count": null,
            "_view_module_version": "1.5.0",
            "orientation": "horizontal",
            "min": 0,
            "description_tooltip": null,
            "_model_module": "@jupyter-widgets/controls",
            "layout": "IPY_MODEL_09136ab07b4f4a1e96cec296f8bb9c9d"
          }
        },
        "4c696de9129e4875927bee16758fd597": {
          "model_module": "@jupyter-widgets/controls",
          "model_name": "HTMLModel",
          "state": {
            "_view_name": "HTMLView",
            "style": "IPY_MODEL_239d624168644f01b2a65def9542f8f3",
            "_dom_classes": [],
            "description": "",
            "_model_name": "HTMLModel",
            "placeholder": "​",
            "_view_module": "@jupyter-widgets/controls",
            "_model_module_version": "1.5.0",
            "value": " 11/11 [2:43:54&lt;00:00, 894.06s/it]",
            "_view_count": null,
            "_view_module_version": "1.5.0",
            "description_tooltip": null,
            "_model_module": "@jupyter-widgets/controls",
            "layout": "IPY_MODEL_8d6c93a2b9474995975e3417c14abbf8"
          }
        },
        "4ed213b9d6c44d25a348f83cadfcdebd": {
          "model_module": "@jupyter-widgets/controls",
          "model_name": "ProgressStyleModel",
          "state": {
            "_view_name": "StyleView",
            "_model_name": "ProgressStyleModel",
            "description_width": "initial",
            "_view_module": "@jupyter-widgets/base",
            "_model_module_version": "1.5.0",
            "_view_count": null,
            "_view_module_version": "1.2.0",
            "bar_color": null,
            "_model_module": "@jupyter-widgets/controls"
          }
        },
        "09136ab07b4f4a1e96cec296f8bb9c9d": {
          "model_module": "@jupyter-widgets/base",
          "model_name": "LayoutModel",
          "state": {
            "_view_name": "LayoutView",
            "grid_template_rows": null,
            "right": null,
            "justify_content": null,
            "_view_module": "@jupyter-widgets/base",
            "overflow": null,
            "_model_module_version": "1.2.0",
            "_view_count": null,
            "flex_flow": null,
            "width": null,
            "min_width": null,
            "border": null,
            "align_items": null,
            "bottom": null,
            "_model_module": "@jupyter-widgets/base",
            "top": null,
            "grid_column": null,
            "overflow_y": null,
            "overflow_x": null,
            "grid_auto_flow": null,
            "grid_area": null,
            "grid_template_columns": null,
            "flex": null,
            "_model_name": "LayoutModel",
            "justify_items": null,
            "grid_row": null,
            "max_height": null,
            "align_content": null,
            "visibility": null,
            "align_self": null,
            "height": null,
            "min_height": null,
            "padding": null,
            "grid_auto_rows": null,
            "grid_gap": null,
            "max_width": null,
            "order": null,
            "_view_module_version": "1.2.0",
            "grid_template_areas": null,
            "object_position": null,
            "object_fit": null,
            "grid_auto_columns": null,
            "margin": null,
            "display": null,
            "left": null
          }
        },
        "239d624168644f01b2a65def9542f8f3": {
          "model_module": "@jupyter-widgets/controls",
          "model_name": "DescriptionStyleModel",
          "state": {
            "_view_name": "StyleView",
            "_model_name": "DescriptionStyleModel",
            "description_width": "",
            "_view_module": "@jupyter-widgets/base",
            "_model_module_version": "1.5.0",
            "_view_count": null,
            "_view_module_version": "1.2.0",
            "_model_module": "@jupyter-widgets/controls"
          }
        },
        "8d6c93a2b9474995975e3417c14abbf8": {
          "model_module": "@jupyter-widgets/base",
          "model_name": "LayoutModel",
          "state": {
            "_view_name": "LayoutView",
            "grid_template_rows": null,
            "right": null,
            "justify_content": null,
            "_view_module": "@jupyter-widgets/base",
            "overflow": null,
            "_model_module_version": "1.2.0",
            "_view_count": null,
            "flex_flow": null,
            "width": null,
            "min_width": null,
            "border": null,
            "align_items": null,
            "bottom": null,
            "_model_module": "@jupyter-widgets/base",
            "top": null,
            "grid_column": null,
            "overflow_y": null,
            "overflow_x": null,
            "grid_auto_flow": null,
            "grid_area": null,
            "grid_template_columns": null,
            "flex": null,
            "_model_name": "LayoutModel",
            "justify_items": null,
            "grid_row": null,
            "max_height": null,
            "align_content": null,
            "visibility": null,
            "align_self": null,
            "height": null,
            "min_height": null,
            "padding": null,
            "grid_auto_rows": null,
            "grid_gap": null,
            "max_width": null,
            "order": null,
            "_view_module_version": "1.2.0",
            "grid_template_areas": null,
            "object_position": null,
            "object_fit": null,
            "grid_auto_columns": null,
            "margin": null,
            "display": null,
            "left": null
          }
        },
        "358b2910242b48ebbee7c9f6582ed12d": {
          "model_module": "@jupyter-widgets/controls",
          "model_name": "HBoxModel",
          "state": {
            "_view_name": "HBoxView",
            "_dom_classes": [],
            "_model_name": "HBoxModel",
            "_view_module": "@jupyter-widgets/controls",
            "_model_module_version": "1.5.0",
            "_view_count": null,
            "_view_module_version": "1.5.0",
            "box_style": "",
            "layout": "IPY_MODEL_e363a3d841fc47bc8fcde835523f0c55",
            "_model_module": "@jupyter-widgets/controls",
            "children": [
              "IPY_MODEL_2b9c52b32659460599aece4eed051066",
              "IPY_MODEL_38f8027b0dd549af8eeb7cab1bd284e3"
            ]
          }
        },
        "e363a3d841fc47bc8fcde835523f0c55": {
          "model_module": "@jupyter-widgets/base",
          "model_name": "LayoutModel",
          "state": {
            "_view_name": "LayoutView",
            "grid_template_rows": null,
            "right": null,
            "justify_content": null,
            "_view_module": "@jupyter-widgets/base",
            "overflow": null,
            "_model_module_version": "1.2.0",
            "_view_count": null,
            "flex_flow": null,
            "width": null,
            "min_width": null,
            "border": null,
            "align_items": null,
            "bottom": null,
            "_model_module": "@jupyter-widgets/base",
            "top": null,
            "grid_column": null,
            "overflow_y": null,
            "overflow_x": null,
            "grid_auto_flow": null,
            "grid_area": null,
            "grid_template_columns": null,
            "flex": null,
            "_model_name": "LayoutModel",
            "justify_items": null,
            "grid_row": null,
            "max_height": null,
            "align_content": null,
            "visibility": null,
            "align_self": null,
            "height": null,
            "min_height": null,
            "padding": null,
            "grid_auto_rows": null,
            "grid_gap": null,
            "max_width": null,
            "order": null,
            "_view_module_version": "1.2.0",
            "grid_template_areas": null,
            "object_position": null,
            "object_fit": null,
            "grid_auto_columns": null,
            "margin": null,
            "display": null,
            "left": null
          }
        },
        "2b9c52b32659460599aece4eed051066": {
          "model_module": "@jupyter-widgets/controls",
          "model_name": "FloatProgressModel",
          "state": {
            "_view_name": "ProgressView",
            "style": "IPY_MODEL_c3d65da8b22649a6b99c629e2bf7de09",
            "_dom_classes": [],
            "description": "100%",
            "_model_name": "FloatProgressModel",
            "bar_style": "success",
            "max": 1000,
            "_view_module": "@jupyter-widgets/controls",
            "_model_module_version": "1.5.0",
            "value": 1000,
            "_view_count": null,
            "_view_module_version": "1.5.0",
            "orientation": "horizontal",
            "min": 0,
            "description_tooltip": null,
            "_model_module": "@jupyter-widgets/controls",
            "layout": "IPY_MODEL_7813c42084c34a64a7f69f9d656eff87"
          }
        },
        "38f8027b0dd549af8eeb7cab1bd284e3": {
          "model_module": "@jupyter-widgets/controls",
          "model_name": "HTMLModel",
          "state": {
            "_view_name": "HTMLView",
            "style": "IPY_MODEL_70855c660f2a4ef4a532eb1403bcfe16",
            "_dom_classes": [],
            "description": "",
            "_model_name": "HTMLModel",
            "placeholder": "​",
            "_view_module": "@jupyter-widgets/controls",
            "_model_module_version": "1.5.0",
            "value": " 1000/1000 [02:03&lt;00:00,  8.07it/s]",
            "_view_count": null,
            "_view_module_version": "1.5.0",
            "description_tooltip": null,
            "_model_module": "@jupyter-widgets/controls",
            "layout": "IPY_MODEL_87df33145a2b4a149b8f0ad6340948fe"
          }
        },
        "c3d65da8b22649a6b99c629e2bf7de09": {
          "model_module": "@jupyter-widgets/controls",
          "model_name": "ProgressStyleModel",
          "state": {
            "_view_name": "StyleView",
            "_model_name": "ProgressStyleModel",
            "description_width": "initial",
            "_view_module": "@jupyter-widgets/base",
            "_model_module_version": "1.5.0",
            "_view_count": null,
            "_view_module_version": "1.2.0",
            "bar_color": null,
            "_model_module": "@jupyter-widgets/controls"
          }
        },
        "7813c42084c34a64a7f69f9d656eff87": {
          "model_module": "@jupyter-widgets/base",
          "model_name": "LayoutModel",
          "state": {
            "_view_name": "LayoutView",
            "grid_template_rows": null,
            "right": null,
            "justify_content": null,
            "_view_module": "@jupyter-widgets/base",
            "overflow": null,
            "_model_module_version": "1.2.0",
            "_view_count": null,
            "flex_flow": null,
            "width": null,
            "min_width": null,
            "border": null,
            "align_items": null,
            "bottom": null,
            "_model_module": "@jupyter-widgets/base",
            "top": null,
            "grid_column": null,
            "overflow_y": null,
            "overflow_x": null,
            "grid_auto_flow": null,
            "grid_area": null,
            "grid_template_columns": null,
            "flex": null,
            "_model_name": "LayoutModel",
            "justify_items": null,
            "grid_row": null,
            "max_height": null,
            "align_content": null,
            "visibility": null,
            "align_self": null,
            "height": null,
            "min_height": null,
            "padding": null,
            "grid_auto_rows": null,
            "grid_gap": null,
            "max_width": null,
            "order": null,
            "_view_module_version": "1.2.0",
            "grid_template_areas": null,
            "object_position": null,
            "object_fit": null,
            "grid_auto_columns": null,
            "margin": null,
            "display": null,
            "left": null
          }
        },
        "70855c660f2a4ef4a532eb1403bcfe16": {
          "model_module": "@jupyter-widgets/controls",
          "model_name": "DescriptionStyleModel",
          "state": {
            "_view_name": "StyleView",
            "_model_name": "DescriptionStyleModel",
            "description_width": "",
            "_view_module": "@jupyter-widgets/base",
            "_model_module_version": "1.5.0",
            "_view_count": null,
            "_view_module_version": "1.2.0",
            "_model_module": "@jupyter-widgets/controls"
          }
        },
        "87df33145a2b4a149b8f0ad6340948fe": {
          "model_module": "@jupyter-widgets/base",
          "model_name": "LayoutModel",
          "state": {
            "_view_name": "LayoutView",
            "grid_template_rows": null,
            "right": null,
            "justify_content": null,
            "_view_module": "@jupyter-widgets/base",
            "overflow": null,
            "_model_module_version": "1.2.0",
            "_view_count": null,
            "flex_flow": null,
            "width": null,
            "min_width": null,
            "border": null,
            "align_items": null,
            "bottom": null,
            "_model_module": "@jupyter-widgets/base",
            "top": null,
            "grid_column": null,
            "overflow_y": null,
            "overflow_x": null,
            "grid_auto_flow": null,
            "grid_area": null,
            "grid_template_columns": null,
            "flex": null,
            "_model_name": "LayoutModel",
            "justify_items": null,
            "grid_row": null,
            "max_height": null,
            "align_content": null,
            "visibility": null,
            "align_self": null,
            "height": null,
            "min_height": null,
            "padding": null,
            "grid_auto_rows": null,
            "grid_gap": null,
            "max_width": null,
            "order": null,
            "_view_module_version": "1.2.0",
            "grid_template_areas": null,
            "object_position": null,
            "object_fit": null,
            "grid_auto_columns": null,
            "margin": null,
            "display": null,
            "left": null
          }
        }
      }
    },
    "accelerator": "TPU"
  },
  "cells": [
    {
      "cell_type": "markdown",
      "metadata": {
        "id": "TKwJpzzZ9YgT"
      },
      "source": [
        "# ***ATTENTION IS ALL YOU NEED - Paper Explanation ***\n",
        "\n",
        "\n",
        "1.   Framework : PyTorch\n",
        "2.   Dataset   : Multi30K\n",
        "\n",
        "\n",
        "\n",
        "\n",
        "\n",
        "\n",
        "> Special thanks to Rishaab, Bentretvet, Jay Alammar, Aladdin Pearson\n",
        "\n",
        "\n",
        "\n",
        ">Dont hesitate to get help from : \n",
        "https://github.com/rishabkr/Attention-Is-All-You-Need-Explained-PyTorch/blob/main/Attention-is-All-You-Need%20Paper%20Implementation(PyTorch)%20.ipynb \n",
        "\n",
        "\n",
        "\n",
        "\n",
        "\n",
        "\n",
        "\n",
        "\n"
      ]
    },
    {
      "cell_type": "code",
      "metadata": {
        "colab": {
          "base_uri": "https://localhost:8080/"
        },
        "id": "hNUrx2G1vGGv",
        "outputId": "bf7dccc0-1eef-4b88-851f-8dc7113644e9"
      },
      "source": [
        "import torch\n",
        "print(torch.__version__) "
      ],
      "execution_count": 1,
      "outputs": [
        {
          "output_type": "stream",
          "text": [
            "1.9.0+cu102\n"
          ],
          "name": "stdout"
        }
      ]
    },
    {
      "cell_type": "markdown",
      "metadata": {
        "id": "rsxrZUgp9SMT"
      },
      "source": [
        "Import the dependencies"
      ]
    },
    {
      "cell_type": "code",
      "metadata": {
        "id": "SROZceB_5VU0"
      },
      "source": [
        "#To define the model:\n",
        "import torch\n",
        "import torch.nn as nn\n",
        "import torch.optim as optim\n",
        "#to load,iterate and process the dataset\n",
        "import torchtext\n",
        "from torchtext.legacy.datasets import Multi30k\n",
        "from torchtext.data.metrics import bleu_score\n",
        "from torchtext.legacy.data import Field, BucketIterator\n",
        "#to visualize loss plots on localhost while training\n",
        "from torch.utils.tensorboard import SummaryWriter\n",
        "#miscallaneous imports\n",
        "import math\n",
        "import spacy \n",
        "import random\n",
        "import numpy as np\n",
        "from time import time\n",
        "from tqdm.notebook import tqdm #Instantly make your loops show a smart progress meter\n",
        "import seaborn as sns\n",
        "import matplotlib.pyplot as plt\n",
        "import matplotlib.ticker as ticker #classes for configuring tick locating and formatting."
      ],
      "execution_count": 2,
      "outputs": []
    },
    {
      "cell_type": "code",
      "metadata": {
        "colab": {
          "base_uri": "https://localhost:8080/"
        },
        "id": "eNGQuFo1_r0O",
        "outputId": "52a20830-2919-4b5a-e3c6-949166f179d6"
      },
      "source": [
        "# get GPU details if available\n",
        "\n",
        "def get_gpu_details():\n",
        "    t = torch.cuda.get_device_properties(0).total_memory\n",
        "    c = torch.cuda.memory_cached(0)\n",
        "    a = torch.cuda.memory_allocated(0)\n",
        "    print(torch.cuda.get_device_name())\n",
        "    print(f'Total GPU Memory {t} B , Cached GPU Memory {c} B, Allocated GPU Memory {a} B')\n",
        "\n",
        "if torch.cuda.is_available():\n",
        "    device='cuda:0'\n",
        "else:\n",
        "    device='cpu'\n",
        "print(f'Current Device: {device}')\n",
        "if device=='cuda:0':\n",
        "    torch.cuda.empty_cache()\n",
        "    get_gpu_details()"
      ],
      "execution_count": 3,
      "outputs": [
        {
          "output_type": "stream",
          "text": [
            "Current Device: cpu\n"
          ],
          "name": "stdout"
        }
      ]
    },
    {
      "cell_type": "code",
      "metadata": {
        "id": "mLXITbOmBiZm"
      },
      "source": [
        "#Assign Seed and batch_size for deterministic results\n",
        "batch_size = 128\n",
        "SEED = 1234\n",
        "random.seed(SEED)\n",
        "np.random.seed(SEED)\n",
        "torch.manual_seed(SEED)\n",
        "torch.cuda.manual_seed(SEED)\n",
        "torch.backends.cudnn.deterministic = True"
      ],
      "execution_count": 4,
      "outputs": []
    },
    {
      "cell_type": "code",
      "metadata": {
        "colab": {
          "base_uri": "https://localhost:8080/"
        },
        "id": "YTVA-Vi9Cz08",
        "outputId": "a46436c7-da33-4b22-ff35-85854600a006"
      },
      "source": [
        "!python -m spacy download de_core_news_sm"
      ],
      "execution_count": 5,
      "outputs": [
        {
          "output_type": "stream",
          "text": [
            "Collecting de_core_news_sm==2.2.5\n",
            "\u001b[?25l  Downloading https://github.com/explosion/spacy-models/releases/download/de_core_news_sm-2.2.5/de_core_news_sm-2.2.5.tar.gz (14.9MB)\n",
            "\u001b[K     |████████████████████████████████| 14.9MB 5.3MB/s \n",
            "\u001b[?25hRequirement already satisfied: spacy>=2.2.2 in /usr/local/lib/python3.7/dist-packages (from de_core_news_sm==2.2.5) (2.2.4)\n",
            "Requirement already satisfied: catalogue<1.1.0,>=0.0.7 in /usr/local/lib/python3.7/dist-packages (from spacy>=2.2.2->de_core_news_sm==2.2.5) (1.0.0)\n",
            "Requirement already satisfied: tqdm<5.0.0,>=4.38.0 in /usr/local/lib/python3.7/dist-packages (from spacy>=2.2.2->de_core_news_sm==2.2.5) (4.41.1)\n",
            "Requirement already satisfied: thinc==7.4.0 in /usr/local/lib/python3.7/dist-packages (from spacy>=2.2.2->de_core_news_sm==2.2.5) (7.4.0)\n",
            "Requirement already satisfied: blis<0.5.0,>=0.4.0 in /usr/local/lib/python3.7/dist-packages (from spacy>=2.2.2->de_core_news_sm==2.2.5) (0.4.1)\n",
            "Requirement already satisfied: plac<1.2.0,>=0.9.6 in /usr/local/lib/python3.7/dist-packages (from spacy>=2.2.2->de_core_news_sm==2.2.5) (1.1.3)\n",
            "Requirement already satisfied: wasabi<1.1.0,>=0.4.0 in /usr/local/lib/python3.7/dist-packages (from spacy>=2.2.2->de_core_news_sm==2.2.5) (0.8.2)\n",
            "Requirement already satisfied: srsly<1.1.0,>=1.0.2 in /usr/local/lib/python3.7/dist-packages (from spacy>=2.2.2->de_core_news_sm==2.2.5) (1.0.5)\n",
            "Requirement already satisfied: requests<3.0.0,>=2.13.0 in /usr/local/lib/python3.7/dist-packages (from spacy>=2.2.2->de_core_news_sm==2.2.5) (2.23.0)\n",
            "Requirement already satisfied: setuptools in /usr/local/lib/python3.7/dist-packages (from spacy>=2.2.2->de_core_news_sm==2.2.5) (57.0.0)\n",
            "Requirement already satisfied: preshed<3.1.0,>=3.0.2 in /usr/local/lib/python3.7/dist-packages (from spacy>=2.2.2->de_core_news_sm==2.2.5) (3.0.5)\n",
            "Requirement already satisfied: cymem<2.1.0,>=2.0.2 in /usr/local/lib/python3.7/dist-packages (from spacy>=2.2.2->de_core_news_sm==2.2.5) (2.0.5)\n",
            "Requirement already satisfied: murmurhash<1.1.0,>=0.28.0 in /usr/local/lib/python3.7/dist-packages (from spacy>=2.2.2->de_core_news_sm==2.2.5) (1.0.5)\n",
            "Requirement already satisfied: numpy>=1.15.0 in /usr/local/lib/python3.7/dist-packages (from spacy>=2.2.2->de_core_news_sm==2.2.5) (1.19.5)\n",
            "Requirement already satisfied: importlib-metadata>=0.20; python_version < \"3.8\" in /usr/local/lib/python3.7/dist-packages (from catalogue<1.1.0,>=0.0.7->spacy>=2.2.2->de_core_news_sm==2.2.5) (4.5.0)\n",
            "Requirement already satisfied: urllib3!=1.25.0,!=1.25.1,<1.26,>=1.21.1 in /usr/local/lib/python3.7/dist-packages (from requests<3.0.0,>=2.13.0->spacy>=2.2.2->de_core_news_sm==2.2.5) (1.24.3)\n",
            "Requirement already satisfied: idna<3,>=2.5 in /usr/local/lib/python3.7/dist-packages (from requests<3.0.0,>=2.13.0->spacy>=2.2.2->de_core_news_sm==2.2.5) (2.10)\n",
            "Requirement already satisfied: chardet<4,>=3.0.2 in /usr/local/lib/python3.7/dist-packages (from requests<3.0.0,>=2.13.0->spacy>=2.2.2->de_core_news_sm==2.2.5) (3.0.4)\n",
            "Requirement already satisfied: certifi>=2017.4.17 in /usr/local/lib/python3.7/dist-packages (from requests<3.0.0,>=2.13.0->spacy>=2.2.2->de_core_news_sm==2.2.5) (2021.5.30)\n",
            "Requirement already satisfied: zipp>=0.5 in /usr/local/lib/python3.7/dist-packages (from importlib-metadata>=0.20; python_version < \"3.8\"->catalogue<1.1.0,>=0.0.7->spacy>=2.2.2->de_core_news_sm==2.2.5) (3.4.1)\n",
            "Requirement already satisfied: typing-extensions>=3.6.4; python_version < \"3.8\" in /usr/local/lib/python3.7/dist-packages (from importlib-metadata>=0.20; python_version < \"3.8\"->catalogue<1.1.0,>=0.0.7->spacy>=2.2.2->de_core_news_sm==2.2.5) (3.7.4.3)\n",
            "Building wheels for collected packages: de-core-news-sm\n",
            "  Building wheel for de-core-news-sm (setup.py) ... \u001b[?25l\u001b[?25hdone\n",
            "  Created wheel for de-core-news-sm: filename=de_core_news_sm-2.2.5-cp37-none-any.whl size=14907055 sha256=a6448986d75715775dad8def6cface6e95be51d91ccd1a609e0f36b0e13d2de7\n",
            "  Stored in directory: /tmp/pip-ephem-wheel-cache-sy0yq_sl/wheels/ba/3f/ed/d4aa8e45e7191b7f32db4bfad565e7da1edbf05c916ca7a1ca\n",
            "Successfully built de-core-news-sm\n",
            "Installing collected packages: de-core-news-sm\n",
            "Successfully installed de-core-news-sm-2.2.5\n",
            "\u001b[38;5;2m✔ Download and installation successful\u001b[0m\n",
            "You can now load the model via spacy.load('de_core_news_sm')\n"
          ],
          "name": "stdout"
        }
      ]
    },
    {
      "cell_type": "code",
      "metadata": {
        "id": "dNXpR2neB2G7"
      },
      "source": [
        "#Download spacy moddules for English and Germany langugaes:\n",
        "spacy_german = spacy.load('de_core_news_sm')    \n",
        "spacy_english = spacy.load('en_core_web_sm')\n",
        "#*If german model doesnot get loaded even after previous installation pls restart the runtime and try"
      ],
      "execution_count": 5,
      "outputs": []
    },
    {
      "cell_type": "code",
      "metadata": {
        "colab": {
          "base_uri": "https://localhost:8080/"
        },
        "id": "f1R0GkegDb4b",
        "outputId": "842d5630-9039-488f-e8e0-10bed434bb83"
      },
      "source": [
        "#Define the tokenizer for both models\n",
        "def tokenize_english(eng_text):\n",
        "    return [token.text for token in spacy_english.tokenizer(eng_text)]\n",
        "\n",
        "def tokenize_german(german_text):\n",
        "    return [token.text for token in spacy_german.tokenizer(german_text)]\n",
        "    \n",
        "print(tokenize_english('I love you Divine Mother!'),tokenize_german('Lassen Sie uns ein Spiel spielen'))"
      ],
      "execution_count": 6,
      "outputs": [
        {
          "output_type": "stream",
          "text": [
            "['I', 'love', 'you', 'Divine', 'Mother', '!'] ['Lassen', 'Sie', 'uns', 'ein', 'Spiel', 'spielen']\n"
          ],
          "name": "stdout"
        }
      ]
    },
    {
      "cell_type": "code",
      "metadata": {
        "id": "1AvTVBUaEJJ0"
      },
      "source": [
        "#Create text processing pipelines:\n",
        "\n",
        "source_process_pipeline = Field(tokenize = tokenize_german,\n",
        "                       init_token = '<sos>',\n",
        "                       eos_token = '<eos>',\n",
        "                       lower = True,\n",
        "                       batch_first = True)\n",
        "\n",
        "target_process_pipeline = Field(tokenize = tokenize_english,\n",
        "                       init_token = '<sos>',\n",
        "                       eos_token = '<eos>',\n",
        "                       lower = True,\n",
        "                       batch_first = True)\n",
        "#Each sequence should starts with <sos> and end with <eos> \n",
        "#Each sequence must be lowercase \n",
        "#first channel of the input to the model will be batch, so set batch_first = True"
      ],
      "execution_count": 7,
      "outputs": []
    },
    {
      "cell_type": "code",
      "metadata": {
        "colab": {
          "base_uri": "https://localhost:8080/"
        },
        "id": "cwbdQywrFB7E",
        "outputId": "4bc4abaf-e558-4eca-a312-093482113005"
      },
      "source": [
        "# Data Split:\n",
        "train_data, valid_data, test_data = Multi30k.splits(exts = ('.de', '.en'), \n",
        "                                                    fields = (source_process_pipeline,target_process_pipeline))\n",
        "#Data is basically arranged ro support seq2seq models\n",
        "#Two modules are there which are .de and .en for german and english respectively\n",
        "#Here we field out those modules and split those into three data set"
      ],
      "execution_count": 8,
      "outputs": [
        {
          "output_type": "stream",
          "text": [
            "downloading training.tar.gz\n"
          ],
          "name": "stdout"
        },
        {
          "output_type": "stream",
          "text": [
            "training.tar.gz: 100%|██████████| 1.21M/1.21M [00:01<00:00, 1.19MB/s]\n"
          ],
          "name": "stderr"
        },
        {
          "output_type": "stream",
          "text": [
            "downloading validation.tar.gz\n"
          ],
          "name": "stdout"
        },
        {
          "output_type": "stream",
          "text": [
            "validation.tar.gz: 100%|██████████| 46.3k/46.3k [00:00<00:00, 233kB/s]\n"
          ],
          "name": "stderr"
        },
        {
          "output_type": "stream",
          "text": [
            "downloading mmt_task1_test2016.tar.gz\n"
          ],
          "name": "stdout"
        },
        {
          "output_type": "stream",
          "text": [
            "mmt_task1_test2016.tar.gz: 100%|██████████| 66.2k/66.2k [00:00<00:00, 216kB/s]\n"
          ],
          "name": "stderr"
        }
      ]
    },
    {
      "cell_type": "code",
      "metadata": {
        "colab": {
          "base_uri": "https://localhost:8080/"
        },
        "id": "h6ZleFC_MvUQ",
        "outputId": "ae35dde9-6327-4537-cd22-087ae6e05f04"
      },
      "source": [
        "len(train_data),len(valid_data),len(test_data)"
      ],
      "execution_count": 9,
      "outputs": [
        {
          "output_type": "execute_result",
          "data": {
            "text/plain": [
              "(29000, 1014, 1000)"
            ]
          },
          "metadata": {
            "tags": []
          },
          "execution_count": 9
        }
      ]
    },
    {
      "cell_type": "code",
      "metadata": {
        "colab": {
          "base_uri": "https://localhost:8080/"
        },
        "id": "A5NffyICItND",
        "outputId": "0f9a8182-9d9b-478d-b4f3-145bd60f31c6"
      },
      "source": [
        "#Building Vocabulary:(From train_data)\n",
        "source_process_pipeline.build_vocab(train_data,min_freq=2)\n",
        "target_process_pipeline.build_vocab(train_data,min_freq=2)\n",
        "#Condition for unique is 2\n",
        "len(source_process_pipeline.vocab),len(target_process_pipeline.vocab)"
      ],
      "execution_count": 10,
      "outputs": [
        {
          "output_type": "execute_result",
          "data": {
            "text/plain": [
              "(7855, 5893)"
            ]
          },
          "metadata": {
            "tags": []
          },
          "execution_count": 10
        }
      ]
    },
    {
      "cell_type": "code",
      "metadata": {
        "colab": {
          "base_uri": "https://localhost:8080/"
        },
        "id": "PdUd8nkHJXvW",
        "outputId": "12b7b6d6-eb11-42b3-f0ca-e7488c77bfdf"
      },
      "source": [
        "list(source_process_pipeline.vocab.stoi.items())[:50],list(target_process_pipeline.vocab.stoi.items())[:50]"
      ],
      "execution_count": 11,
      "outputs": [
        {
          "output_type": "execute_result",
          "data": {
            "text/plain": [
              "([('<unk>', 0),\n",
              "  ('<pad>', 1),\n",
              "  ('<sos>', 2),\n",
              "  ('<eos>', 3),\n",
              "  ('.', 4),\n",
              "  ('ein', 5),\n",
              "  ('einem', 6),\n",
              "  ('in', 7),\n",
              "  ('eine', 8),\n",
              "  (',', 9),\n",
              "  ('und', 10),\n",
              "  ('mit', 11),\n",
              "  ('auf', 12),\n",
              "  ('mann', 13),\n",
              "  ('einer', 14),\n",
              "  ('der', 15),\n",
              "  ('frau', 16),\n",
              "  ('die', 17),\n",
              "  ('zwei', 18),\n",
              "  ('einen', 19),\n",
              "  ('im', 20),\n",
              "  ('an', 21),\n",
              "  ('von', 22),\n",
              "  ('sich', 23),\n",
              "  ('dem', 24),\n",
              "  ('mädchen', 25),\n",
              "  ('junge', 26),\n",
              "  ('vor', 27),\n",
              "  ('zu', 28),\n",
              "  ('steht', 29),\n",
              "  ('männer', 30),\n",
              "  ('sitzt', 31),\n",
              "  ('hund', 32),\n",
              "  ('den', 33),\n",
              "  ('straße', 34),\n",
              "  ('während', 35),\n",
              "  ('gruppe', 36),\n",
              "  ('hält', 37),\n",
              "  ('spielt', 38),\n",
              "  ('das', 39),\n",
              "  ('hemd', 40),\n",
              "  ('personen', 41),\n",
              "  ('über', 42),\n",
              "  ('drei', 43),\n",
              "  ('eines', 44),\n",
              "  ('frauen', 45),\n",
              "  ('blauen', 46),\n",
              "  ('neben', 47),\n",
              "  ('ist', 48),\n",
              "  ('kind', 49)],\n",
              " [('<unk>', 0),\n",
              "  ('<pad>', 1),\n",
              "  ('<sos>', 2),\n",
              "  ('<eos>', 3),\n",
              "  ('a', 4),\n",
              "  ('.', 5),\n",
              "  ('in', 6),\n",
              "  ('the', 7),\n",
              "  ('on', 8),\n",
              "  ('man', 9),\n",
              "  ('is', 10),\n",
              "  ('and', 11),\n",
              "  ('of', 12),\n",
              "  ('with', 13),\n",
              "  ('woman', 14),\n",
              "  (',', 15),\n",
              "  ('two', 16),\n",
              "  ('are', 17),\n",
              "  ('to', 18),\n",
              "  ('people', 19),\n",
              "  ('at', 20),\n",
              "  ('an', 21),\n",
              "  ('wearing', 22),\n",
              "  ('shirt', 23),\n",
              "  ('young', 24),\n",
              "  ('white', 25),\n",
              "  ('black', 26),\n",
              "  ('his', 27),\n",
              "  ('while', 28),\n",
              "  ('blue', 29),\n",
              "  ('men', 30),\n",
              "  ('red', 31),\n",
              "  ('sitting', 32),\n",
              "  ('girl', 33),\n",
              "  ('boy', 34),\n",
              "  ('dog', 35),\n",
              "  ('standing', 36),\n",
              "  ('playing', 37),\n",
              "  ('group', 38),\n",
              "  ('street', 39),\n",
              "  ('down', 40),\n",
              "  ('walking', 41),\n",
              "  ('-', 42),\n",
              "  ('front', 43),\n",
              "  ('her', 44),\n",
              "  ('holding', 45),\n",
              "  ('one', 46),\n",
              "  ('water', 47),\n",
              "  ('three', 48),\n",
              "  ('by', 49)])"
            ]
          },
          "metadata": {
            "tags": []
          },
          "execution_count": 11
        }
      ]
    },
    {
      "cell_type": "code",
      "metadata": {
        "colab": {
          "base_uri": "https://localhost:8080/"
        },
        "id": "ZtMW7oKyLLU-",
        "outputId": "38adbd2d-198d-4f83-f8ec-bc0024b6f3f9"
      },
      "source": [
        "#Iterator Settings:\n",
        "train_iterator, validation_iterator, test_iterator = BucketIterator.splits(\n",
        "    (train_data, valid_data, test_data), \n",
        "     batch_size = batch_size,\n",
        "     device = device)\n",
        "print(next(iter(train_iterator)))\n",
        "#Minimizes amount of padding needed while producing freshly shuffled batches for each new epoch. See pool for the bucketing procedure used."
      ],
      "execution_count": 12,
      "outputs": [
        {
          "output_type": "stream",
          "text": [
            "\n",
            "[torchtext.legacy.data.batch.Batch of size 128 from MULTI30K]\n",
            "\t[.src]:[torch.LongTensor of size 128x23]\n",
            "\t[.trg]:[torch.LongTensor of size 128x21]\n"
          ],
          "name": "stdout"
        }
      ]
    },
    {
      "cell_type": "code",
      "metadata": {
        "colab": {
          "base_uri": "https://localhost:8080/"
        },
        "id": "7lxxORMxN-ap",
        "outputId": "c01a3df5-1cb2-4e03-baba-828454152007"
      },
      "source": [
        "len(train_iterator),len(validation_iterator),len(test_iterator)"
      ],
      "execution_count": 13,
      "outputs": [
        {
          "output_type": "execute_result",
          "data": {
            "text/plain": [
              "(227, 8, 8)"
            ]
          },
          "metadata": {
            "tags": []
          },
          "execution_count": 13
        }
      ]
    },
    {
      "cell_type": "markdown",
      "metadata": {
        "id": "KJvRQ31qOgew"
      },
      "source": [
        "# **BUILDING TRANSFORMER MODEL**"
      ]
    },
    {
      "cell_type": "code",
      "metadata": {
        "id": "PB_Ws0RUOdfF"
      },
      "source": [
        "                                                                                             #Encoder part 1>>>>>>>>\n",
        "#input_dimension = source_process_pipeline.vocab\n",
        "#hidden_dimension = 256 (Assume)   i.e linguistic feature or embedding dim\n",
        "#number_encode_layers = 3 (Assume)\n",
        "#num_attention_heads = 8(Assume)\n",
        "#pointwise_ff_dim = 512(Assume) \n",
        "#dropout = 0.1 (Assume)\n",
        "#max_length = maximum sentence length = 100 (Assume) #includes pad\n",
        "class Encoder(nn.Module):\n",
        "    def __init__(self,input_dimension,hidden_dimension,\n",
        "                 number_encoder_layers,num_attention_heads,pointwise_ff_dim,\n",
        "                 dropout,device,max_length = 100):\n",
        "        super().__init__()\n",
        "        \n",
        "        self.device = device\n",
        "        \n",
        "        self.token_embeddings = nn.Embedding(input_dimension,hidden_dimension) \n",
        "        self.positional_embeddings = nn.Embedding(max_length,hidden_dimension)\n",
        "#token_embeddings and positional_embeddings are summed together and becomes product of embedding\n",
        "#Before they get to sum,multiply token embeddings with scalar value governed from hidden_dimension        \n",
        "        \n",
        "        self.encoder_blocks = nn.ModuleList([EncoderBlock(hidden_dimension,num_attention_heads,\n",
        "                                                  pointwise_ff_dim,dropout,device)\n",
        "                                     for _ in range(number_encoder_layers)])\n",
        "#Encoder block of each layer inheritance        \n",
        "        self.dropout = nn.Dropout(dropout)\n",
        "#Drop out layer added        \n",
        "        # sqrt(d_model)\n",
        "        self.scale = torch.sqrt(torch.FloatTensor([hidden_dimension])).to(device)\n",
        "#Use this scale value to multiply token embeddings       \n",
        "        \n",
        "    def forward(self,source,source_mask):\n",
        "        \n",
        "        #src = (batchsize,source length)\n",
        "        #src_mask = (batch size,1,1,source length)\n",
        "        \n",
        "        batch_size = source.shape[0]\n",
        "        source_length = source.shape[1]\n",
        "          \n",
        "        positions = torch.arange(0,source_length).unsqueeze(0)\n",
        "#positions = (source_length,1)\n",
        "# a range of (0 to sentence length of each and source sentence)\n",
        "        \n",
        "        positions = positions.repeat(batch_size,1).to(self.device)\n",
        "#positions = (batch_size,source_length)\n",
        "#Integrate the previous to batch size of 128\n",
        "        \n",
        "#add the token_embeddings to positional_encodings for letting the model know about the sequence of occurance of tokens\n",
        "#get the embeddings for the token and multiply with sqrt(d_model) scale\n",
        "        source = self.token_embeddings(source)*self.scale\n",
        "        \n",
        "#add the positional embeddings to the source\n",
        "        source = source + self.positional_embeddings(positions)\n",
        "        \n",
        "#apply dropout\n",
        "        source = self.dropout(source)\n",
        "#source = (batch size,source length,hidden dimension) \n",
        "        \n",
        "#Letting source to reach encoder layer\n",
        "        for encoder_block in self.encoder_blocks:\n",
        "            source = encoder_block(source,source_mask)\n",
        "        \n",
        "        return source"
      ],
      "execution_count": 14,
      "outputs": []
    },
    {
      "cell_type": "code",
      "metadata": {
        "id": "pbQCT3fZUBhX"
      },
      "source": [
        "                                                                                          #Encoder part 2 >>>>>>>.........Encoder block\n",
        "#Encoder block contains multi head self attention layer with dropout\n",
        "#Followed by residual connection by through a \"Layer normalization\" layer\n",
        "#Followed by a feed forward layer then again dropout,residual and layer normalization layer \n",
        "#The output of this layer is passed to the next encoder block\n",
        "# The multi head self attention layer is called to find and apply attention to the sentence and it applies and returns the attention scores\n",
        "class EncoderBlock(nn.Module):\n",
        "    def __init__(self,hidden_dimension,num_attention_heads,\n",
        "                      pointwise_ff_dim,dropout,device):\n",
        "        \n",
        "        super().__init__()\n",
        "#Define both layernormalization         \n",
        "        self.attention_layer_norm = nn.LayerNorm(hidden_dimension)\n",
        "        self.feedForward_layer_norm = nn.LayerNorm(hidden_dimension)\n",
        "#Define multiheadSelf Attention        \n",
        "        self.selfAttention = MultiHeadSelfAttention(hidden_dimension,\n",
        "                                                    num_attention_heads,\n",
        "                                                   dropout,device)\n",
        "#Define feed forward neural network        \n",
        "        self.pointWise_feedForward = PointWiseFeedForwardLayer(hidden_dimension,\n",
        "                                                              pointwise_ff_dim,\n",
        "                                                              dropout)\n",
        "        self.dropout = nn.Dropout(dropout)\n",
        "        \n",
        "        \n",
        "    def forward(self,source,source_mask):\n",
        "        \n",
        "        #source(x) = (batch size,source length ,hidden dimension)\n",
        "        #sourcemask = (batch size,1,1,source length)\n",
        "        \n",
        "#self attention(z)\n",
        "#Attention unit accepts input in (query,key,value,mask) format\n",
        "        attention_contexts,attention_scores = self.selfAttention(source,source,source,source_mask)\n",
        "        \n",
        "#dropout,residual skip connection and attn_layer norm(x+z)\n",
        "        attention_contexts = self.dropout(attention_contexts)\n",
        "#attention_contexts is an ouput from mutihead attention        \n",
        "        source = self.attention_layer_norm(source + attention_contexts)\n",
        "       \n",
        "        \n",
        "        #repeat the above for feedforward layer norm\n",
        "        #source = (batch size,source length,hidden dimension)\n",
        "        \n",
        "#pointwise feedforward\n",
        "        attention_contexts = self.pointWise_feedForward(source)\n",
        "        \n",
        "        \n",
        "        #dropout,residual skip connection and ff_layer norm(x+z)\n",
        "        attention_contexts = self.dropout(attention_contexts)\n",
        "        source = self.feedForward_layer_norm(source + attention_contexts)\n",
        "        \n",
        "        #source = (batch size,source length,hidden dimension)\n",
        "        return source\n"
      ],
      "execution_count": 15,
      "outputs": []
    },
    {
      "cell_type": "code",
      "metadata": {
        "id": "1l5UhE8yYQ9a"
      },
      "source": [
        "                                                                                 #Encoder part 3>>>>>>>>>MultiheadAttention\n",
        "# input tokens of each sequence parallelly fed into attention unit from embedding zone \n",
        "#Its initial dimension as per this case is hidden dimension = 256\n",
        "#It is then converted into three tensor i.e Query,Key,Value of dimension once again 256.Weight tensor was placed between them\n",
        "#No of head of multi head attention is already defined as 8\n",
        "#hidden dim // 8 == 32 is now head_dimension which is square rooted for energy calculation\n",
        "#FirstQuery and Key is dot producted and divided by sqrt of head dimension\n",
        "#Which is then \"softmax\"ed and multiplied with previous one and produce energy\n",
        "#Energy is then concatenated with other attention energy \n",
        "#And Finally attains hidden state dimension once again after weights tensor multiplication.\n",
        "#Here Attention masking is OFF\n",
        "#Permute is all about change indexes in paranthesis and thereby changing patterns orientation in tensors\n",
        "#In matrix multiplication transposes of vectors normally denoted with the help of permute\n",
        "\n",
        "class MultiHeadSelfAttention(nn.Module):\n",
        "    \n",
        "    def __init__(self,hidden_dimension,num_attention_heads,\n",
        "                dropout,device):\n",
        "        super().__init__()\n",
        "#Make sure about scale factor aswell as head_dimension        \n",
        "        assert hidden_dimension % num_attention_heads == 0\n",
        "        \n",
        "        self.hidden_dimension = hidden_dimension\n",
        "        self.num_attention_heads = num_attention_heads\n",
        "#Calculate head_dimension\n",
        "        self.head_dimension = hidden_dimension // num_attention_heads\n",
        "#Query,Key and Value      \n",
        "        self.W_q = nn.Linear(hidden_dimension,hidden_dimension)\n",
        "        self.W_k = nn.Linear(hidden_dimension,hidden_dimension)\n",
        "        self.W_v = nn.Linear(hidden_dimension,hidden_dimension)\n",
        "#Final Attention output 'z'        \n",
        "        self.W_o = nn.Linear(hidden_dimension,hidden_dimension)\n",
        "        \n",
        "        self.dropout = nn.Dropout(dropout)\n",
        "#Identify scale value which help to calculate energy using head dimension      \n",
        "        self.scale = torch.sqrt(torch.FloatTensor([self.head_dimension])).to(device)\n",
        "\n",
        "#item refers elements(source len) in batch size\n",
        "#Each item is elaborated in a tensor of batch size,hidden size,number of attention head and head_dimension\n",
        "\n",
        "    def split_heads(self,item,batch_size):\n",
        "        item = item.view(batch_size,-1,self.num_attention_heads,self.head_dimension)\n",
        "        item = item.permute(0,2,1,3) \n",
        "        return item\n",
        "    \n",
        "    def forward(self,query,key,value,mask = None):\n",
        "        \n",
        "        batch_size = query.shape[0]\n",
        "\n",
        "#Weights Assign        \n",
        "        Q = self.W_q(query) #Q,query shape is (batch size,Query len(256),hidden dimension(256))\n",
        "        K = self.W_k(key)  #K,key shape is (batch size,Key len(256),hidden dimension(256))\n",
        "        V = self.W_v(value)  #V,value shape is (batch size,Value len(256),hidden dimension(256))\n",
        "#Actual Q,K,V         \n",
        "        Q = self.split_heads(Q,batch_size) #Q shape(batch size,num_attention heads,query len(1),head_dim)\n",
        "        K = self.split_heads(K,batch_size) #K shape(batch size,num_attention heads,query len(1),head_dim)\n",
        "        V = self.split_heads(V,batch_size) #V shape(batch size,num_attention heads,query len(1),head_dim)\n",
        "        \n",
        "        # permute because Q = (bsize,n_attn_heads,qlen,head_dim)\n",
        "        #             and K = (bsize,n_attn_heads,klen,head_dim)\n",
        "        # we need to multiply across batches and corresponding attention heads,\n",
        "        # while following matrix multiplication compatibility\n",
        "        #Q(bsize,n_attn_heads,qlen,hdim) x K(bsize,n_attn_heads,hdim,klen)\n",
        "        #mainly we have to ensure that m1 = (qlen,hdim)  x m2 = (hdim,klen)\n",
        "        #gives  m3   = (qlen,klen) >>(1X1)\n",
        "      \n",
        "        # Q x K.T / sqrt(d_k)\n",
        "        energy = torch.matmul(Q,K.permute(0,1,3,2)) / self.scale\n",
        "        #energy = (batch size,num_attention_heads,query len,Key length>>>>(1,1))\n",
        "        \n",
        "        #the below masking is done so that after softmax,useless and very low values go to 0.\n",
        "        if mask is not None:\n",
        "            energy = energy.masked_fill(mask == 0, -1e15)\n",
        "        \n",
        "        # softmax is applied over last dimension, across all batches, across all heads\n",
        "        # softmax(Q x K.T / sqrt(d_k))\n",
        "        attention = torch.softmax(energy,dim = -1)\n",
        "        \n",
        "        #apply attention_score x value\n",
        "        #attention = (batch size,num_attention_heads,query len,Key length>>>>(1,1))\n",
        "        #V shape(batch size,num_attention_heads,value len(1),hidden dim(256))\n",
        "        \n",
        "        # softmax(Q x K.T / sqrt(d_k)) * V\n",
        "        # equivalent to attention_scores * V\n",
        "        \n",
        "        attention_scored_value = torch.matmul(self.dropout(attention),V)\n",
        "        #as key len = value len, attention_scored_value(batch size,num_attention_heads,Key len(1),hidden dim(256))\n",
        "        \n",
        "        attention_scored_value = attention_scored_value.permute(0,2,1,3).contiguous()\n",
        "        \n",
        "        #attention_scored_value(batch size,query len,n_attention_heads,hidden dim)\n",
        "# contiguous makes a copy of the tensor such that the order of its elements in memory\n",
        "#And it is the same as if it had been created from scratch with the same data\n",
        "\n",
        "\n",
        "        attention_scored_value = attention_scored_value.view(batch_size,-1,self.hidden_dimension)\n",
        "        #attention_scored_value = (batch size,query len,hdden_dim)\n",
        "        \n",
        "        attention_contexts_Z = self.W_o(attention_scored_value)\n",
        "\n",
        "        return attention_contexts_Z,attention"
      ],
      "execution_count": 16,
      "outputs": []
    },
    {
      "cell_type": "code",
      "metadata": {
        "id": "j_UNXEmdoTNa"
      },
      "source": [
        "                                                          #Encoder part4>>>>>>>>>>Point Wise Feed Forward Layer\n",
        "#Totally two fully connected layer\n",
        "#First one getting input(256) and the hidden layer neurons are 512(pontwise_ff_dim)\n",
        "#Second one is the hidden layer and output(256)\n",
        "class PointWiseFeedForwardLayer(nn.Module):\n",
        "    \n",
        "    def __init__(self,hidden_dimension,pointwise_ff_dim,dropout):\n",
        "        \n",
        "        super().__init__()\n",
        "        \n",
        "        self.fully_connected_1 = nn.Linear(hidden_dimension,pointwise_ff_dim)\n",
        "        \n",
        "        self.fully_connected_2 = nn.Linear(pointwise_ff_dim,hidden_dimension)\n",
        "        \n",
        "        self.dropout = nn.Dropout(dropout)\n",
        "        \n",
        "    \n",
        "    def forward(self,inp):\n",
        "        \n",
        "        #inp  = (batch_size,seq len,hidden_dim)\n",
        "        \n",
        "        fc1_op = self.fully_connected_1(inp)\n",
        "        fc1_op = torch.relu(fc1_op)       #Relu Activation function\n",
        "        # fc1_op = (batch_size,seq_len,pointwise _ff_dim) \n",
        "        \n",
        "        fc2_op = self.fully_connected_2(fc1_op)\n",
        "        # fc2_op = (batch_size,seq_len,hidden_dim) \n",
        "        \n",
        "        return  fc2_op"
      ],
      "execution_count": 17,
      "outputs": []
    },
    {
      "cell_type": "code",
      "metadata": {
        "id": "vDdcR9C4zWp-"
      },
      "source": [
        "                                                            #Decoder part1>>>>>>>>>>>>>>>>>\n",
        "#Each decoder block has 2 multi-head-self-attention(MHSA) layers.\n",
        "#The first MHSA layer uses masked self attention mechanism, so that the model doesnt \"cheat\" and looks the actual word ahead of its actual decoding.\n",
        "#The second MHSA cross attention layer uses the decoder representation of query from the previous MHSA layer and encoder representations of key and value from the encoder. \n",
        "#Encoder masks are used to mask attention over pad tokens\n",
        "#The target masks by the decoder is used to prevent the model from cheating by looking ahead the correct word before it even decodes it.\n",
        "class Decoder(nn.Module):\n",
        "    \n",
        "    def __init__(self,output_dimension,hidden_dimension,\n",
        "                num_decoder_layers,num_attn_heads,\n",
        "                pointwise_ff_dim,dropout,\n",
        "                 device,max_length = 100):\n",
        "        \n",
        "        super().__init__()\n",
        "        \n",
        "        self.device = device\n",
        "        \n",
        "        self.token_embeddings = nn.Embedding(output_dimension,hidden_dimension)\n",
        "        self.positional_embeddings = nn.Embedding(max_length,hidden_dimension)\n",
        "        \n",
        "        \n",
        "        self.decoder_blocks = nn.ModuleList([DecoderBlock(hidden_dimension,\n",
        "                                                         num_attn_heads,\n",
        "                                                         pointwise_ff_dim,\n",
        "                                                         dropout,device)\n",
        "                                           for _ in range(num_decoder_layers)])\n",
        "        \n",
        "        \n",
        "        self.fully_connected_op = nn.Linear(hidden_dimension,output_dimension)\n",
        "        self.dropout = nn.Dropout(dropout)\n",
        "        \n",
        "        self.scale = torch.sqrt(torch.FloatTensor([hidden_dimension])).to(device)\n",
        "    \n",
        "    \n",
        "    \n",
        "    def forward(self,target,encoder_src,source_mask,target_mask):\n",
        "        \n",
        "        batch_size = target.shape[0]\n",
        "        target_len = target.shape[1]\n",
        "        \n",
        "        #target = (batchsize,target len)\n",
        "        #encoder_src = (batch size,source len,hidden dim)\n",
        "        #target_mask = (batch size,1,target len,target len)  \n",
        "        #src_mask = (batch size,1,1,source len)\n",
        " \n",
        "        positions = torch.arange(0,target_len).unsqueeze(0)\n",
        "        positions = positions.repeat(batch_size,1).to(self.device)\n",
        "        #positions = (batch size,target len)\n",
        "        \n",
        "        #get the embeddings for the token and multiply with sqrt(d_model) scale\n",
        "        target = self.token_embeddings(target)*self.scale\n",
        "        \n",
        "        #add the positional embeddings to the target\n",
        "        target = target + self.positional_embeddings(positions)\n",
        "        #target = (batch size,target len,hidden_dim)\n",
        "        \n",
        "        \n",
        "        #apply dropout\n",
        "        target = self.dropout(target)\n",
        "        #target = (batch size,target len,hidden_dim)\n",
        "        \n",
        "        for decoder_block in self.decoder_blocks:\n",
        "            target,attention = decoder_block(target,encoder_src,\n",
        "                                             source_mask,target_mask)\n",
        "            \n",
        "        #target = (batch size,target len,hidden dim)\n",
        "        #attention = (batch size,num_attention_heads,target len,source len)\n",
        "        \n",
        "        output = self.fully_connected_op(target)\n",
        "        #output = (batch size,target len,output_dim)\n",
        "        \n",
        "        return output,attention"
      ],
      "execution_count": 18,
      "outputs": []
    },
    {
      "cell_type": "code",
      "metadata": {
        "id": "NoqwbZ1Vgm0a"
      },
      "source": [
        "                                                                       #Decoder part2>>>>>>>>>>>>>>>>>Decoder Block\n",
        "#Step 1 : The decoderblock gets input as embeddings of size hidden_dimensions for each of the tokens in the sequence.\n",
        "#Step 2 :Apply decoder MHSA to get the key,query and value representations of the target using decoder attention.\n",
        "#Step 3 :Add a residual connection from the decoder MHSA input and add it to the decoder MHSA output, and apply decoder's Self attention Layer Normalization.\n",
        "#Step 4 :Now, pass the output of the previous layer to the encoder cross attention, using Key and Value from the encoder source and query from the target\n",
        "#Step 5 :Add a residual connection and apply encoder's cross attention layer normalization\n",
        "#Step 6 :Pass the outputs through a point wise feed forward network\n",
        "#Step 7 :Add another residual connection from the encoder cross attention outputs and apply feed forward layer normalization\n",
        "\n",
        "class DecoderBlock(nn.Module):\n",
        "    \n",
        "    def __init__(self,hidden_dimension,num_attn_heads,\n",
        "                pointwise_ff_dim,dropout,device):\n",
        "        \n",
        "        super().__init__()\n",
        "        \n",
        "        self.decoder_self_attn_layer_norm = nn.LayerNorm(hidden_dimension)\n",
        "        self.encoder_cross_attn_layer_norm = nn.LayerNorm(hidden_dimension)\n",
        "        self.feedForward_layer_norm = nn.LayerNorm(hidden_dimension)\n",
        "        \n",
        "        self.decoder_self_attention = MultiHeadSelfAttention(hidden_dimension,\n",
        "                                                            num_attn_heads,\n",
        "                                                            dropout,device)\n",
        "        \n",
        "        self.encoder_cross_attention = MultiHeadSelfAttention(hidden_dimension,\n",
        "                                                            num_attn_heads,\n",
        "                                                            dropout,device)\n",
        "        \n",
        "        self.pointWise_feedForward = PointWiseFeedForwardLayer(hidden_dimension,\n",
        "                                                              pointwise_ff_dim,\n",
        "                                                              dropout)\n",
        "        self.dropout = nn.Dropout(dropout)\n",
        "\n",
        "    def forward(self,target,encoder_source,source_mask,target_mask):\n",
        "\n",
        "        #target = (batch size,target len,hidden_dim)\n",
        "        #encoder_src = (batch size,source len,hidden dim)\n",
        "        #target_mask = (batch size,1,target len,target len)\n",
        "        #src_mask = (batch size,1,1,source len)\n",
        "        \n",
        "#decoder self attention\n",
        "#MHSA accepts input in (query,key,value,mask) format\n",
        "        tar_self_attention_contexts,tar_self_attention_scores = self.decoder_self_attention(target,target,target,\n",
        "                                                                          target_mask)\n",
        "\n",
        "#dropout,residual skip connection and attn_layer norm(x+z)\n",
        "        tar_self_attention_contexts = self.dropout(tar_self_attention_contexts)\n",
        "        \n",
        "        target = self.decoder_self_attn_layer_norm(target + tar_self_attention_contexts)\n",
        "#target = (batch size,target len,hidden dim)\n",
        "\n",
        "#Encoder Cross Attention\n",
        "#MHSA accepts input in (query,key,value,mask) format\n",
        "#encoder source is Key and Value \n",
        "#Target is Query\n",
        "        tar_cross_attention_contexts,tar_cross_attention_scores = self.encoder_cross_attention(target,\n",
        "                                                                                            encoder_source,encoder_source,\n",
        "                                                                                            source_mask)\n",
        "\n",
        "#encoder cross attn layer norm\n",
        "        tar_cross_attention_contexts = self.dropout(tar_cross_attention_contexts)\n",
        "        \n",
        "        target = self.encoder_cross_attn_layer_norm(target + tar_cross_attention_contexts)\n",
        "        #target = (batch size,target len,hidden dim)\n",
        "\n",
        "#pointwise feedforward\n",
        "        tar_cross_attention_contexts = self.pointWise_feedForward(target)\n",
        "\n",
        "#dropout,residual skip connection and ff_layer norm(x+z)\n",
        "        \n",
        "        tar_cross_attention_contexts = self.dropout(tar_cross_attention_contexts)\n",
        "        target = self.feedForward_layer_norm(target + tar_cross_attention_contexts)\n",
        "\n",
        "        #target = (batch size,target len,hidden dim)\n",
        "        #tar_cross_attention_scores = (batch size,nheads,target len,source len)\n",
        "        \n",
        "        return target,tar_cross_attention_scores"
      ],
      "execution_count": 19,
      "outputs": []
    },
    {
      "cell_type": "code",
      "metadata": {
        "id": "cWI7eqmv4ENw"
      },
      "source": [
        "                                                                                #Seq2Seq>>>>>>>>>>>>>>>>>\n",
        "#Its all about source mask,target mask ,target subsequent mask\n",
        "#To incorporate the time steps and avoid cheating, it is then logically anded with a subsequent mask.\n",
        "#The source mask and pad mask are used to create masks wherever a pad token is present\n",
        "#Its still misery that I couldnot able to  understand this concept in complete depth\n",
        "#When encoder out put is carried to cross attention units of decoder,it is then collobate with target query with target mask\n",
        "#target subsequent mask acting efficiently at where target sequence tokens allowed into decoder unit before embedding\n",
        "#Futher details pls check the github notebook is linked with this.\n",
        "class Seq2SeqModel(nn.Module):\n",
        "    \n",
        "    def __init__(self,encoder_stack,decoder_stack,\n",
        "                source_pad_idx,target_pad_idx,device):\n",
        "        \n",
        "        super().__init__()\n",
        "        \n",
        "        self.encoder_stack = encoder_stack\n",
        "        self.decoder_stack = decoder_stack\n",
        "        self.source_pad_index = source_pad_idx\n",
        "        self.target_pad_index = target_pad_idx\n",
        "        self.device = device        \n",
        "        \n",
        "    def get_source_mask(self,source):\n",
        "        \n",
        "        #source  = (batch size,source_len)\n",
        "        #for all indexes which are not pad indexes, make them 1 else 0\n",
        "        \n",
        "        source_mask = (source != self.source_pad_index)\n",
        "        \n",
        "#unsqueeze(i) operation adds an i_th dimension to the item\n",
        "        \n",
        "        source_mask = source_mask.unsqueeze(1)\n",
        "        #source_mask = (batch size,1,source_len)\n",
        "        \n",
        "        source_mask = source_mask.unsqueeze(2)\n",
        "        #source_mask = (batch size,1,1,source_len)\n",
        "        \n",
        "#this shape is reqd because it will be applied after calculating- \n",
        "#the attention which has 4 dimensions (bsize,n_attn_heads,qlen,klen)\n",
        "        \n",
        "        return source_mask\n",
        "\n",
        "    def get_target_mask(self,target):\n",
        "        \n",
        "        #target = (batch size,target_len)\n",
        "        \n",
        "        #we'll be creating pad mask and subsequent mask for target\n",
        "        # as discussed in the above section\n",
        "        \n",
        "        target_pad_mask = (target != self.target_pad_index).unsqueeze(1).unsqueeze(2)\n",
        "        #target_pad_mask = (batch size,1,1,target_len)\n",
        "        \n",
        "        target_length = target.shape[1]\n",
        "        \n",
        "        target_subsequent_mask = torch.tril(torch.ones((target_length,target_length),\n",
        "                                                      device = self.device)).bool()\n",
        "        \n",
        "#target_subsequent_mask = (target_len,target_len)\n",
        "\n",
        "        final_target_mask = target_subsequent_mask & target_pad_mask\n",
        "        # final_target_mask = (bsize,1,tlen,tlen)\n",
        "        \n",
        "        return final_target_mask\n",
        "    \n",
        "    \n",
        "    def forward(self,source,target):\n",
        "        \n",
        "        #source = (batch size,source len)\n",
        "        #target = (batch size,target len)\n",
        "        \n",
        "        source_mask = self.get_source_mask(source)\n",
        "        target_mask = self.get_target_mask(target)\n",
        "        \n",
        "        #source_mask = (batch size,1,1,source len)\n",
        "        #target_mask = (batch size,1,target len,target len)\n",
        "        \n",
        "        encoder_output = self.encoder_stack(source,source_mask)\n",
        "        #encoder_op = (batch size,source len,hidden dim)\n",
        "        \n",
        "        decoder_output,decoder_attention = self.decoder_stack(target,\n",
        "                                                             encoder_output,\n",
        "                                                             source_mask,target_mask)\n",
        "        \n",
        "        #decoder_output = (batch size,target len,output_dim)\n",
        "        #decoder_attention = (batch size,num_attn_heads,target len,source len)\n",
        "        \n",
        "        return decoder_output,decoder_attention"
      ],
      "execution_count": 20,
      "outputs": []
    },
    {
      "cell_type": "code",
      "metadata": {
        "id": "_vMJpTd67Hwu"
      },
      "source": [
        "#Define source and target pad_index\n",
        "s_pad_token = source_process_pipeline.pad_token\n",
        "t_pad_token = target_process_pipeline.pad_token\n",
        "\n",
        "#source_process_pipeline.vocab.stoi[s_pad_token]  is 1\n",
        "source_pad_index = source_process_pipeline.vocab.stoi[s_pad_token]\n",
        "target_pad_index = target_process_pipeline.vocab.stoi[t_pad_token]"
      ],
      "execution_count": 21,
      "outputs": []
    },
    {
      "cell_type": "code",
      "metadata": {
        "id": "RL1WA5C78I_P"
      },
      "source": [
        "#configure model by applying weight initializations and getting the model details\n",
        "#stick with Xavier Weight initialization \n",
        "class ConfigureModel(nn.Module):\n",
        "    \n",
        "    def __init__(self,model):\n",
        "        \n",
        "        super().__init__()\n",
        "        self.model = model\n",
        "                   \n",
        "    def get_model_details(self):\n",
        "        \n",
        "        total_param = sum(p.numel() for p in self.model.parameters())\n",
        "        trainable_param = sum(p.numel() for p in self.model.parameters() if p.requires_grad)\n",
        "        \n",
        "        return total_param,trainable_param\n",
        "    \n",
        "    def init_xavier_uniform(self,m):\n",
        "        \n",
        "        if hasattr(m, 'weight') and m.weight.dim() > 1:\n",
        "            nn.init.xavier_uniform_(m.weight.data)\n",
        "            \n",
        "    def initialize_model_weights(self):\n",
        "        \n",
        "        self.model.apply(self.init_xavier_uniform)\n",
        "        return self.model"
      ],
      "execution_count": 22,
      "outputs": []
    },
    {
      "cell_type": "markdown",
      "metadata": {
        "id": "mm8JzvWg8k41"
      },
      "source": [
        "Training Parameters"
      ]
    },
    {
      "cell_type": "code",
      "metadata": {
        "id": "hRXnc1wp8anm"
      },
      "source": [
        "INPUT_VOCAB_SIZE = len(source_process_pipeline.vocab)\n",
        "OUTPUT_VOCAB_SIZE = len(target_process_pipeline.vocab)\n",
        "\n",
        "HIDDEN_DIMENSION = 256\n",
        "ENCODER_POINTWISE_FF_DIM = 512\n",
        "DECODER_POINTWISE_FF_DIM = 512\n",
        "\n",
        "NUM_ENCODER_LAYERS = 4\n",
        "NUM_DECODER_LAYERS = 4\n",
        "\n",
        "NUM_ENCODER_ATTN_HEADS = 8\n",
        "NUM_DECODER_ATTN_HEADS = 8\n",
        "\n",
        "ENCODER_DROPOUT = 0.1\n",
        "DECODER_DROPOUT = 0.1\n",
        "\n",
        "encoder_stack = Encoder(INPUT_VOCAB_SIZE,HIDDEN_DIMENSION,\n",
        "                 NUM_ENCODER_LAYERS,NUM_ENCODER_ATTN_HEADS,ENCODER_POINTWISE_FF_DIM,\n",
        "                 ENCODER_DROPOUT,device)\n",
        "\n",
        "decoder_stack = Decoder(OUTPUT_VOCAB_SIZE,HIDDEN_DIMENSION,\n",
        "                 NUM_DECODER_LAYERS,NUM_DECODER_ATTN_HEADS,DECODER_POINTWISE_FF_DIM,\n",
        "                 DECODER_DROPOUT,device)\n",
        "\n",
        "transformer_model = Seq2SeqModel(encoder_stack,decoder_stack,\n",
        "                                source_pad_index,target_pad_index,device).to(device)"
      ],
      "execution_count": 23,
      "outputs": []
    },
    {
      "cell_type": "code",
      "metadata": {
        "id": "AiXDsCCHNIFi",
        "colab": {
          "base_uri": "https://localhost:8080/"
        },
        "outputId": "c1612f4b-34d8-41ee-d91b-87921bdfee74"
      },
      "source": [
        "#Get the parameters:\n",
        "cm = ConfigureModel(transformer_model)\n",
        "params = cm.get_model_details()\n",
        "print(f'The number of trainable parameters in model are {params[0]:,}')\n",
        "#Initialize model_weights\n",
        "transformer_model = cm.initialize_model_weights()"
      ],
      "execution_count": 24,
      "outputs": [
        {
          "output_type": "stream",
          "text": [
            "The number of trainable parameters in model are 10,356,741\n"
          ],
          "name": "stdout"
        }
      ]
    },
    {
      "cell_type": "code",
      "metadata": {
        "id": "9F-ymR4dOHsq"
      },
      "source": [
        "#Learning rate , optimizer and  loss criteria\n",
        "LR = 5 * 1e-4\n",
        "\n",
        "optimizer = torch.optim.Adam(transformer_model.parameters(),lr = LR)\n",
        "\n",
        "loss_criterion = nn.CrossEntropyLoss(ignore_index = target_pad_index)"
      ],
      "execution_count": 25,
      "outputs": []
    },
    {
      "cell_type": "markdown",
      "metadata": {
        "id": "-Z41_OSyRVBG"
      },
      "source": [
        "Training"
      ]
    },
    {
      "cell_type": "code",
      "metadata": {
        "id": "wVmVNk2DRXsI"
      },
      "source": [
        "# While calculating the loss , use the original target tensor with sos tag removed\n",
        "\n",
        "def get_loss(output,target,loss_criterion):\n",
        "    \n",
        "    output_dim = output.shape[-1]\n",
        "    \n",
        "    output = output.contiguous().view(-1,output_dim)  \n",
        "    target = target[:,1:].contiguous().view(-1)      #slice <sos> (the first index) off.\n",
        "    \n",
        "    #output = [batch size * target len - 1, output dim]             \n",
        "    #target = [bsize * target len - 1]                                #No <sos>\n",
        "    \n",
        "    loss = loss_criterion(output,target)\n",
        "\n",
        "    return loss\n",
        "\n",
        "\n",
        "def train_one_epoch(transformer_model,train_iterator,\n",
        "                    optimizer,loss_criterion,clip = 1):\n",
        "    \n",
        "    #set the model in training mode\n",
        "    transformer_model.train()\n",
        "    single_epoch_loss = 0\n",
        "    \n",
        "    for it_idx,batch in enumerate(train_iterator):\n",
        "        \n",
        "        source = batch.src\n",
        "        target = batch.trg\n",
        "        \n",
        "        optimizer.zero_grad()\n",
        "        \n",
        "        decoder_output , _ = transformer_model(source,target[:,:-1])    # never send <eos>\n",
        "        #decoder_output = (batch size,target len-1,output_dim)          \n",
        "        #target = (batch size,target len)                               \n",
        "        \n",
        "        \n",
        "        loss = get_loss(decoder_output,target,loss_criterion)\n",
        "        \n",
        "        #backpropagate the gradients\n",
        "        loss.backward()\n",
        "        \n",
        "        #clip the gradients so that they dont explode(their norm remains <= 1)\n",
        "        nn.utils.clip_grad_norm_(transformer_model.parameters(),clip)\n",
        "        \n",
        "        optimizer.step()\n",
        "        \n",
        "        single_epoch_loss += loss.item()\n",
        "        \n",
        "    return single_epoch_loss / len(train_iterator)"
      ],
      "execution_count": 26,
      "outputs": []
    },
    {
      "cell_type": "code",
      "metadata": {
        "id": "xf-7WJMqUK-s"
      },
      "source": [
        "def perform_validation(transformer_model,validation_iterator,loss_criterion):\n",
        "    \n",
        "    #set the model to evaluation mode\n",
        "    #model.eval() is a kind of switch for some specific layers/parts of the model\n",
        "    #that behave differently during training and inference (evaluating) time.\n",
        "    \n",
        "    transformer_model.eval()   #Evaluation mode\n",
        "    validation_loss = 0 \n",
        "    \n",
        "    with torch.no_grad():\n",
        "          for it_idx,batch in enumerate(validation_iterator):\n",
        "        \n",
        "                source = batch.src\n",
        "                target = batch.trg\n",
        "\n",
        "                decoder_output , _ = transformer_model(source,target[:,:-1])\n",
        "                #decoder_output = (bsatch ize,target len-1,output_dim)\n",
        "                #target = (batch size,target len)\n",
        "\n",
        "                loss = get_loss(decoder_output,target,loss_criterion)\n",
        "\n",
        "                validation_loss += loss.item()\n",
        "\n",
        "    return validation_loss / len(validation_iterator)"
      ],
      "execution_count": 27,
      "outputs": []
    },
    {
      "cell_type": "code",
      "metadata": {
        "id": "-RteQBzPEiZY"
      },
      "source": [
        "                                                                    #Translating the sentence>>>>>>>>>>\n",
        "def translate_sentence(source_sentence,source_field,target_field,source_tokenizer,\n",
        "                       transformer_model,device,max_length = 50,verbose = True):\n",
        "    \n",
        "    start = time()\n",
        "    \n",
        "    transformer_model.eval()\n",
        "    \n",
        "    #step 1 tokenize the source sentence if it has not been tokenized (is a string)\n",
        "    \n",
        "    if isinstance(source_sentence,str) and source_tokenizer is not None:\n",
        "        source_tokens = [token.text.lower() for token in source_tokenizer(source_sentence)]\n",
        "    else:\n",
        "        source_tokens = [token.lower() for token in source_sentence]\n",
        "        \n",
        "    #step 2  append the sos and eos tokens\n",
        "    source_tokens = [source_field.init_token] + source_tokens + [source_field.eos_token]\n",
        "    \n",
        "    #step 3 numericalize the source sentence\n",
        "    source_to_idx = [source_field.vocab.stoi[token] for token in source_tokens]\n",
        "    \n",
        "    \n",
        "    #step 4 convert it to a tensor and add a batch dimension\n",
        "    source_tensor = torch.LongTensor(source_to_idx).unsqueeze(0).to(device)\n",
        "    \n",
        "    #step 5 create the source sentence mask\n",
        "    source_mask = transformer_model.get_source_mask(source_tensor)\n",
        "    \n",
        "    #step 6 feed the source sentence and mask into the encoder\n",
        "    with torch.no_grad():\n",
        "        encoder_output = transformer_model.encoder_stack(source_tensor,source_mask)\n",
        "    \n",
        "    #step 7 create a list to hold the output sentence, initialized with an sos token\n",
        "    target_to_idx = [target_field.vocab.stoi[target_field.init_token]]\n",
        "    #as of now target_to_idx only holds the index of sos token \n",
        "    \n",
        "    #step 8 while we have not hit a maximum length\n",
        "    i = 0\n",
        "    eos_token_index = target_field.vocab.stoi[target_field.eos_token]\n",
        "    \n",
        "    while i < max_length:\n",
        "        \n",
        "        #step 8.1 convert the current output sentence prediction into a tensor with a batch dimension\n",
        "        target_tensor = torch.LongTensor(target_to_idx).unsqueeze(0).to(device)\n",
        "        \n",
        "        #step 8.2 create a target sentence mask\n",
        "        target_mask = transformer_model.get_target_mask(target_tensor)\n",
        "        \n",
        "        #step 8.3 place the current output, encoder output and both masks into the decoder\n",
        "        with torch.no_grad():\n",
        "            decoder_output,decoder_attention = transformer_model.decoder_stack(target_tensor,\n",
        "                                                                              encoder_output,\n",
        "                                                                              source_mask,target_mask)\n",
        "        \n",
        "        #step 8.4 get next output token prediction from decoder along with attention\n",
        "        next_predicted_token = decoder_output.argmax(2)[:,-1].item()\n",
        "        \n",
        "        #step 8.5  add prediction to current output sentence prediction\n",
        "        target_to_idx.append(next_predicted_token)\n",
        "        \n",
        "        #step 8.6 break if the prediction was an <eos> token\n",
        "        if next_predicted_token == eos_token_index:\n",
        "            break\n",
        "        i+=1 \n",
        "    \n",
        "    end = time()\n",
        "    \n",
        "    #step 9 convert the output sentence from indexes to tokens\n",
        "    target_tokens = [target_field.vocab.itos[idx] for idx in target_to_idx]\n",
        "    \n",
        "    if verbose is True:\n",
        "        print(f'Time taken to translate {end - start} seconds')\n",
        "    \n",
        "    # step 10 return the output sentence (with the <sos> token removed) and the attention from the last layer\n",
        "    return target_tokens[1:-1],decoder_attention\n"
      ],
      "execution_count": 28,
      "outputs": []
    },
    {
      "cell_type": "code",
      "metadata": {
        "id": "jvgtP-dtK22B"
      },
      "source": [
        "                                                                                #Training Loop>>>>>>>>>>\n",
        "def train(transformer_model,num_epochs,\n",
        "          train_iterator,validation_iterator,\n",
        "          loss_criterion,clip,\n",
        "          source_field,target_field,\n",
        "          source_tokenizer,\n",
        "          actual_sentence,target_sentence,\n",
        "         device):\n",
        "        \n",
        "    train_losses = []\n",
        "    validation_losses = []\n",
        "    perplexity_train = []\n",
        "    perplexity_validation = []\n",
        "\n",
        "    best_validation_loss = float('inf')\n",
        "    \n",
        "    print(NUM_EPOCHS)\n",
        "    \n",
        "    writer = SummaryWriter(f'runs/loss_plot')\n",
        "    step = 0\n",
        "\n",
        "    for epoch in tqdm(range(num_epochs)):\n",
        "        start = time()\n",
        "\n",
        "        train_loss = train_one_epoch(transformer_model,train_iterator,\n",
        "                                    optimizer,loss_criterion,clip)\n",
        "\n",
        "\n",
        "        validation_loss = perform_validation(transformer_model,validation_iterator,\n",
        "                                            loss_criterion)\n",
        "        \n",
        "        \n",
        "        end = time()\n",
        "\n",
        "        if validation_loss < best_validation_loss:\n",
        "            best_validation_loss = validation_loss\n",
        "            torch.save(transformer_model.state_dict(),'transformer_model(ge-eng).pt')\n",
        "\n",
        "        \n",
        "        model_translation,_ = translate_sentence(actual_sentence,\n",
        "                                               source_field,target_field,\n",
        "                                               source_tokenizer,\n",
        "                                               transformer_model,device,\n",
        "                                               max_length = 50,verbose = True)\n",
        "\n",
        "        \n",
        "        train_perplexity = math.exp(train_loss)\n",
        "        val_perplexity = math.exp(validation_loss)\n",
        "        \n",
        "        \n",
        "        print('*'*50)\n",
        "        print(f'Actual Sentence : \\n{actual_sentence.split()}')\n",
        "        print(f'Actual Translation : \\n{target_sentence.split()}')\n",
        "        print(f'Model Prediction : \\n{model_translation}')\n",
        "        print('*'*50)\n",
        "        \n",
        "        print('='*50)\n",
        "        print(f'Epoch: {epoch+1:02}')\n",
        "        print(f'\\tTrain Loss: {train_loss:.3f} | Train perplexity: {train_perplexity:7.3f}')\n",
        "        print(f'\\t Validation Loss: {validation_loss:.3f} |  validation perplexity: {val_perplexity:7.3f}')\n",
        "        print(f'Time for epoch: {end - start} seconds')\n",
        "        print('='*50)\n",
        "\n",
        "                \n",
        "        train_losses.append(train_loss)\n",
        "        validation_losses.append(validation_loss)\n",
        "        perplexity_train.append(train_perplexity)\n",
        "        perplexity_validation.append(val_perplexity)\n",
        "        \n",
        "        writer.add_scalar('Training_loss',train_loss,global_step = step)\n",
        "        step+=1\n",
        "\n",
        "    return train_losses,validation_losses,perplexity_train,perplexity_validation"
      ],
      "execution_count": 29,
      "outputs": []
    },
    {
      "cell_type": "code",
      "metadata": {
        "colab": {
          "base_uri": "https://localhost:8080/",
          "height": 1000,
          "referenced_widgets": [
            "27837fdba94444568802c80a50bbd6d2",
            "4b2a520c916d4ebbad84680d53afa0a4",
            "8a2919fd0ebe4f4585ad3912b2ace5db",
            "4c696de9129e4875927bee16758fd597",
            "4ed213b9d6c44d25a348f83cadfcdebd",
            "09136ab07b4f4a1e96cec296f8bb9c9d",
            "239d624168644f01b2a65def9542f8f3",
            "8d6c93a2b9474995975e3417c14abbf8"
          ]
        },
        "id": "Ug1g3bZHMPey",
        "outputId": "e7dd5f32-24f9-41c2-e7d9-c9a10077a309"
      },
      "source": [
        "NUM_EPOCHS = 11\n",
        "GRADIENT_CLIP = 1\n",
        "\n",
        "\n",
        "source_test_sentence = 'Ich bin heute krankheitsbedingt so müde.' \n",
        "target_translation = 'I am so tired today due to illness.'\n",
        "\n",
        "history = train(transformer_model,NUM_EPOCHS,\n",
        "          train_iterator,validation_iterator,\n",
        "          loss_criterion,GRADIENT_CLIP,\n",
        "          source_process_pipeline,target_process_pipeline,\n",
        "          spacy_german,\n",
        "          source_test_sentence,target_translation,device)"
      ],
      "execution_count": 30,
      "outputs": [
        {
          "output_type": "stream",
          "text": [
            "11\n"
          ],
          "name": "stdout"
        },
        {
          "output_type": "display_data",
          "data": {
            "application/vnd.jupyter.widget-view+json": {
              "model_id": "27837fdba94444568802c80a50bbd6d2",
              "version_minor": 0,
              "version_major": 2
            },
            "text/plain": [
              "HBox(children=(FloatProgress(value=0.0, max=11.0), HTML(value='')))"
            ]
          },
          "metadata": {
            "tags": []
          }
        },
        {
          "output_type": "stream",
          "text": [
            "Time taken to translate 0.0882411003112793 seconds\n",
            "**************************************************\n",
            "Actual Sentence : \n",
            "['Ich', 'bin', 'heute', 'krankheitsbedingt', 'so', 'müde.']\n",
            "Actual Translation : \n",
            "['I', 'am', 'so', 'tired', 'today', 'due', 'to', 'illness.']\n",
            "Model Prediction : \n",
            "['a', '<unk>', '<unk>', '<unk>', '<unk>', '<unk>', '.']\n",
            "**************************************************\n",
            "==================================================\n",
            "Epoch: 01\n",
            "\tTrain Loss: 4.383 | Train perplexity:  80.055\n",
            "\t Validation Loss: 3.229 |  validation perplexity:  25.265\n",
            "Time for epoch: 904.5820796489716 seconds\n",
            "==================================================\n",
            "Time taken to translate 0.06561541557312012 seconds\n",
            "**************************************************\n",
            "Actual Sentence : \n",
            "['Ich', 'bin', 'heute', 'krankheitsbedingt', 'so', 'müde.']\n",
            "Actual Translation : \n",
            "['I', 'am', 'so', 'tired', 'today', 'due', 'to', 'illness.']\n",
            "Model Prediction : \n",
            "['<unk>', '<unk>', '<unk>', '<unk>', '<unk>', '.']\n",
            "**************************************************\n",
            "==================================================\n",
            "Epoch: 02\n",
            "\tTrain Loss: 3.096 | Train perplexity:  22.118\n",
            "\t Validation Loss: 2.730 |  validation perplexity:  15.331\n",
            "Time for epoch: 890.9063766002655 seconds\n",
            "==================================================\n",
            "Time taken to translate 0.07136917114257812 seconds\n",
            "**************************************************\n",
            "Actual Sentence : \n",
            "['Ich', 'bin', 'heute', 'krankheitsbedingt', 'so', 'müde.']\n",
            "Actual Translation : \n",
            "['I', 'am', 'so', 'tired', 'today', 'due', 'to', 'illness.']\n",
            "Model Prediction : \n",
            "['the', '<unk>', 'is', '<unk>', '<unk>', 'the', '<unk>', '.']\n",
            "**************************************************\n",
            "==================================================\n",
            "Epoch: 03\n",
            "\tTrain Loss: 2.653 | Train perplexity:  14.196\n",
            "\t Validation Loss: 2.482 |  validation perplexity:  11.964\n",
            "Time for epoch: 889.2870106697083 seconds\n",
            "==================================================\n",
            "Time taken to translate 0.07526874542236328 seconds\n",
            "**************************************************\n",
            "Actual Sentence : \n",
            "['Ich', 'bin', 'heute', 'krankheitsbedingt', 'so', 'müde.']\n",
            "Actual Translation : \n",
            "['I', 'am', 'so', 'tired', 'today', 'due', 'to', 'illness.']\n",
            "Model Prediction : \n",
            "['the', '<unk>', '<unk>', 'is', '<unk>', '<unk>', '<unk>', '.']\n",
            "**************************************************\n",
            "==================================================\n",
            "Epoch: 04\n",
            "\tTrain Loss: 2.348 | Train perplexity:  10.468\n",
            "\t Validation Loss: 2.313 |  validation perplexity:  10.109\n",
            "Time for epoch: 883.5470697879791 seconds\n",
            "==================================================\n",
            "Time taken to translate 0.07576537132263184 seconds\n",
            "**************************************************\n",
            "Actual Sentence : \n",
            "['Ich', 'bin', 'heute', 'krankheitsbedingt', 'so', 'müde.']\n",
            "Actual Translation : \n",
            "['I', 'am', 'so', 'tired', 'today', 'due', 'to', 'illness.']\n",
            "Model Prediction : \n",
            "['the', '<unk>', '<unk>', '<unk>', '<unk>', '<unk>', '<unk>', '.']\n",
            "**************************************************\n",
            "==================================================\n",
            "Epoch: 05\n",
            "\tTrain Loss: 2.103 | Train perplexity:   8.189\n",
            "\t Validation Loss: 2.145 |  validation perplexity:   8.540\n",
            "Time for epoch: 890.1467609405518 seconds\n",
            "==================================================\n",
            "Time taken to translate 0.08549690246582031 seconds\n",
            "**************************************************\n",
            "Actual Sentence : \n",
            "['Ich', 'bin', 'heute', 'krankheitsbedingt', 'so', 'müde.']\n",
            "Actual Translation : \n",
            "['I', 'am', 'so', 'tired', 'today', 'due', 'to', 'illness.']\n",
            "Model Prediction : \n",
            "['the', '<unk>', '<unk>', '<unk>', '<unk>', '<unk>', 'the', '<unk>', '.']\n",
            "**************************************************\n",
            "==================================================\n",
            "Epoch: 06\n",
            "\tTrain Loss: 1.865 | Train perplexity:   6.456\n",
            "\t Validation Loss: 2.005 |  validation perplexity:   7.425\n",
            "Time for epoch: 888.7436883449554 seconds\n",
            "==================================================\n",
            "Time taken to translate 0.09760141372680664 seconds\n",
            "**************************************************\n",
            "Actual Sentence : \n",
            "['Ich', 'bin', 'heute', 'krankheitsbedingt', 'so', 'müde.']\n",
            "Actual Translation : \n",
            "['I', 'am', 'so', 'tired', 'today', 'due', 'to', 'illness.']\n",
            "Model Prediction : \n",
            "['i', 'i', 'i', 'are', '<unk>', 'the', '<unk>', 'of', 'the', '<unk>', '.']\n",
            "**************************************************\n",
            "==================================================\n",
            "Epoch: 07\n",
            "\tTrain Loss: 1.650 | Train perplexity:   5.205\n",
            "\t Validation Loss: 1.891 |  validation perplexity:   6.623\n",
            "Time for epoch: 882.0112104415894 seconds\n",
            "==================================================\n",
            "Time taken to translate 0.08808112144470215 seconds\n",
            "**************************************************\n",
            "Actual Sentence : \n",
            "['Ich', 'bin', 'heute', 'krankheitsbedingt', 'so', 'müde.']\n",
            "Actual Translation : \n",
            "['I', 'am', 'so', 'tired', 'today', 'due', 'to', 'illness.']\n",
            "Model Prediction : \n",
            "['i', '<unk>', 'i', '<unk>', 'the', '<unk>', 'of', 'the', '<unk>', '.']\n",
            "**************************************************\n",
            "==================================================\n",
            "Epoch: 08\n",
            "\tTrain Loss: 1.461 | Train perplexity:   4.310\n",
            "\t Validation Loss: 1.808 |  validation perplexity:   6.098\n",
            "Time for epoch: 890.924106836319 seconds\n",
            "==================================================\n",
            "Time taken to translate 0.0800778865814209 seconds\n",
            "**************************************************\n",
            "Actual Sentence : \n",
            "['Ich', 'bin', 'heute', 'krankheitsbedingt', 'so', 'müde.']\n",
            "Actual Translation : \n",
            "['I', 'am', 'so', 'tired', 'today', 'due', 'to', 'illness.']\n",
            "Model Prediction : \n",
            "['i', '<unk>', 'are', 'tired', 'as', 'he', \"'s\", '<unk>', '.']\n",
            "**************************************************\n",
            "==================================================\n",
            "Epoch: 09\n",
            "\tTrain Loss: 1.310 | Train perplexity:   3.706\n",
            "\t Validation Loss: 1.765 |  validation perplexity:   5.841\n",
            "Time for epoch: 888.1360218524933 seconds\n",
            "==================================================\n",
            "Time taken to translate 0.08170795440673828 seconds\n",
            "**************************************************\n",
            "Actual Sentence : \n",
            "['Ich', 'bin', 'heute', 'krankheitsbedingt', 'so', 'müde.']\n",
            "Actual Translation : \n",
            "['I', 'am', 'so', 'tired', 'today', 'due', 'to', 'illness.']\n",
            "Model Prediction : \n",
            "['i', \"'\", 'section', 'of', 'the', '<unk>', \"'\", '<unk>', '.']\n",
            "**************************************************\n",
            "==================================================\n",
            "Epoch: 10\n",
            "\tTrain Loss: 1.180 | Train perplexity:   3.254\n",
            "\t Validation Loss: 1.752 |  validation perplexity:   5.768\n",
            "Time for epoch: 880.1056089401245 seconds\n",
            "==================================================\n",
            "Time taken to translate 0.10690593719482422 seconds\n",
            "**************************************************\n",
            "Actual Sentence : \n",
            "['Ich', 'bin', 'heute', 'krankheitsbedingt', 'so', 'müde.']\n",
            "Actual Translation : \n",
            "['I', 'am', 'so', 'tired', 'today', 'due', 'to', 'illness.']\n",
            "Model Prediction : \n",
            "['the', '<unk>', 'of', 'the', 'employees', 'of', 'the', '<unk>', 'examining', 'the', '<unk>', '.']\n",
            "**************************************************\n",
            "==================================================\n",
            "Epoch: 11\n",
            "\tTrain Loss: 1.073 | Train perplexity:   2.925\n",
            "\t Validation Loss: 1.746 |  validation perplexity:   5.732\n",
            "Time for epoch: 888.7243678569794 seconds\n",
            "==================================================\n",
            "\n"
          ],
          "name": "stdout"
        }
      ]
    },
    {
      "cell_type": "code",
      "metadata": {
        "colab": {
          "base_uri": "https://localhost:8080/",
          "height": 295
        },
        "id": "3s61F0RlWGXm",
        "outputId": "68b98fa5-4a9b-4c6f-d27c-2b8d1fb7adfe"
      },
      "source": [
        "import matplotlib.pyplot as plt\n",
        "\n",
        "# summarize history for loss\n",
        "plt.plot(history[0])\n",
        "plt.plot(history[1])\n",
        "plt.title('model loss')\n",
        "plt.ylabel('loss')\n",
        "plt.xlabel('epoch')\n",
        "plt.legend(['train', 'validation'], loc='upper left')\n",
        "plt.show()"
      ],
      "execution_count": 31,
      "outputs": [
        {
          "output_type": "display_data",
          "data": {
            "image/png": "[encoded data removed]",
            "text/plain": [
              "<Figure size 432x288 with 1 Axes>"
            ]
          },
          "metadata": {
            "tags": [],
            "needs_background": "light"
          }
        }
      ]
    },
    {
      "cell_type": "code",
      "metadata": {
        "colab": {
          "base_uri": "https://localhost:8080/",
          "height": 295
        },
        "id": "vha7oSWXWRTS",
        "outputId": "1079bb9a-3334-4c7f-8c80-59bcfb71c7d6"
      },
      "source": [
        "# perplexity is a measurement of how well a probability distribution or probability model predicts a sample. \n",
        "# It may be used to compare probability models.\n",
        "# A low perplexity indicates the probability distribution is good at predicting the sample.\n",
        "# summarize history for perplexity\n",
        "plt.plot(history[2])\n",
        "plt.plot(history[3])\n",
        "plt.title('model perplexity')\n",
        "plt.ylabel('perplexity')\n",
        "plt.xlabel('epoch')\n",
        "plt.legend(['train', 'validation'], loc='upper left')\n",
        "plt.show()"
      ],
      "execution_count": 32,
      "outputs": [
        {
          "output_type": "display_data",
          "data": {
            "image/png": "[encoded data removed]",
            "text/plain": [
              "<Figure size 432x288 with 1 Axes>"
            ]
          },
          "metadata": {
            "tags": [],
            "needs_background": "light"
          }
        }
      ]
    },
    {
      "cell_type": "markdown",
      "metadata": {
        "id": "cN2ZIw58Wvmu"
      },
      "source": [
        "Attention Visualization"
      ]
    },
    {
      "cell_type": "code",
      "metadata": {
        "id": "ts_mJ2u8WzdP"
      },
      "source": [
        "#Visualizing the attention is the best part of working with transformers,\n",
        "#it helps us in understanding what part of the input the model is paying more attention to\n",
        "\n",
        "def display_attention(sentence, translation, attention, n_heads = 8, n_rows = 4, n_cols = 2):\n",
        "    \n",
        "    assert n_rows * n_cols == n_heads\n",
        "    \n",
        "    fig = plt.figure(figsize=(15,25))\n",
        "    \n",
        "    for i in range(n_heads):\n",
        "        \n",
        "        ax = fig.add_subplot(n_rows, n_cols, i+1)\n",
        "        \n",
        "        _attention = attention.squeeze(0)[i].cpu().detach().numpy()\n",
        "\n",
        "        cax = ax.matshow(_attention, cmap='bone')\n",
        "\n",
        "        ax.tick_params(labelsize=12)\n",
        "        ax.set_xticklabels(['']+['<sos>']+[t.lower() for t in sentence]+['<eos>'], \n",
        "                           rotation=45)\n",
        "        ax.set_yticklabels(['']+translation)\n",
        "\n",
        "        ax.xaxis.set_major_locator(ticker.MultipleLocator(1))\n",
        "        ax.yaxis.set_major_locator(ticker.MultipleLocator(1))\n",
        "\n",
        "    plt.show()\n",
        "    plt.close()"
      ],
      "execution_count": 33,
      "outputs": []
    },
    {
      "cell_type": "code",
      "metadata": {
        "colab": {
          "base_uri": "https://localhost:8080/",
          "height": 1000
        },
        "id": "fpTS2PQVedKl",
        "outputId": "17655588-6e87-4c51-d5c5-ece419d812c0"
      },
      "source": [
        "#see the attention from each head below. Each is certainly different, \n",
        "#but it's difficult (perhaps impossible) to reason about what head has actually learned to pay attention to\n",
        "#They all seem to follow the similar \"downward staircase\" pattern \n",
        "#And the attention when outputting the last two tokens is equally spread over the final two tokens in the input sentence.\n",
        "#Try 1: train_data\n",
        "example_idx = 8\n",
        "\n",
        "src = vars(train_data.examples[example_idx])['src']\n",
        "trg = vars(train_data.examples[example_idx])['trg']\n",
        "\n",
        "\n",
        "translation, attention =  translate_sentence(src,\n",
        "                                            source_process_pipeline,\n",
        "                                            target_process_pipeline,\n",
        "                                            spacy_german,\n",
        "                                            transformer_model,device,\n",
        "                                            max_length = 50,verbose = True)\n",
        "print(f'source = {src}')\n",
        "print('-'*100)\n",
        "print(f'target = {trg}')\n",
        "print('-'*100)\n",
        "print(f'translation = {translation}')\n",
        "print('-'*100)\n",
        "\n",
        "display_attention(src, translation, attention,n_heads = NUM_DECODER_ATTN_HEADS)"
      ],
      "execution_count": 34,
      "outputs": [
        {
          "output_type": "stream",
          "text": [
            "Time taken to translate 0.09730958938598633 seconds\n",
            "source = ['eine', 'frau', 'mit', 'einer', 'großen', 'geldbörse', 'geht', 'an', 'einem', 'tor', 'vorbei', '.']\n",
            "----------------------------------------------------------------------------------------------------\n",
            "target = ['a', 'woman', 'with', 'a', 'large', 'purse', 'is', 'walking', 'by', 'a', 'gate', '.']\n",
            "----------------------------------------------------------------------------------------------------\n",
            "translation = ['a', 'woman', 'with', 'a', 'large', 'purse', 'walks', 'past', 'a', 'gate', '.']\n",
            "----------------------------------------------------------------------------------------------------\n"
          ],
          "name": "stdout"
        },
        {
          "output_type": "display_data",
          "data": {
            "image/png": "[encoded data removed]",
            "text/plain": [
              "<Figure size 1080x1800 with 8 Axes>"
            ]
          },
          "metadata": {
            "tags": [],
            "needs_background": "light"
          }
        }
      ]
    },
    {
      "cell_type": "code",
      "metadata": {
        "colab": {
          "base_uri": "https://localhost:8080/",
          "height": 1000
        },
        "id": "1v4McoPeejO3",
        "outputId": "8b292702-6117-408c-baf8-8e73d4a4587a"
      },
      "source": [
        "#Try 2 :validation_data\n",
        "example_idx = 14\n",
        "\n",
        "src = vars(valid_data.examples[example_idx])['src']\n",
        "trg = vars(valid_data.examples[example_idx])['trg']\n",
        "\n",
        "\n",
        "translation, attention =  translate_sentence(src,\n",
        "                                            source_process_pipeline,\n",
        "                                            target_process_pipeline,\n",
        "                                            spacy_german,\n",
        "                                            transformer_model,device,\n",
        "                                            max_length = 50,verbose = True)\n",
        "print(f'source = {src}')\n",
        "print('-'*100)\n",
        "print(f'target = {trg}')\n",
        "print('-'*100)\n",
        "print(f'translation = {translation}')\n",
        "print('-'*100)\n",
        "\n",
        "display_attention(src, translation, attention,n_heads = NUM_DECODER_ATTN_HEADS)"
      ],
      "execution_count": 35,
      "outputs": [
        {
          "output_type": "stream",
          "text": [
            "Time taken to translate 0.08552002906799316 seconds\n",
            "source = ['eine', 'frau', 'spielt', 'ein', 'lied', 'auf', 'ihrer', 'geige', '.']\n",
            "----------------------------------------------------------------------------------------------------\n",
            "target = ['a', 'female', 'playing', 'a', 'song', 'on', 'her', 'violin', '.']\n",
            "----------------------------------------------------------------------------------------------------\n",
            "translation = ['a', 'woman', 'is', 'playing', 'a', 'song', 'on', 'their', 'violin', '.']\n",
            "----------------------------------------------------------------------------------------------------\n"
          ],
          "name": "stdout"
        },
        {
          "output_type": "display_data",
          "data": {
            "image/png": "[encoded data removed]",
            "text/plain": [
              "<Figure size 1080x1800 with 8 Axes>"
            ]
          },
          "metadata": {
            "tags": [],
            "needs_background": "light"
          }
        }
      ]
    },
    {
      "cell_type": "code",
      "metadata": {
        "colab": {
          "base_uri": "https://localhost:8080/",
          "height": 1000
        },
        "id": "TKXHs38hexDj",
        "outputId": "add8a040-2bf7-45bf-aae9-fa264b3063dd"
      },
      "source": [
        "#Try 3:Test_data\n",
        "example_idx = 8\n",
        "\n",
        "src = vars(test_data.examples[example_idx])['src']\n",
        "trg = vars(test_data.examples[example_idx])['trg']\n",
        "\n",
        "\n",
        "translation, attention =  translate_sentence(src,\n",
        "                                            source_process_pipeline,\n",
        "                                            target_process_pipeline,\n",
        "                                            spacy_german,\n",
        "                                            transformer_model,device,\n",
        "                                            max_length = 50,verbose = True)\n",
        "print(f'source = {src}')\n",
        "print('-'*100)\n",
        "print(f'target = {trg}')\n",
        "print('-'*100)\n",
        "print(f'translation = {translation}')\n",
        "print('-'*100)\n",
        "\n",
        "display_attention(src, translation, attention,n_heads = NUM_DECODER_ATTN_HEADS)"
      ],
      "execution_count": 36,
      "outputs": [
        {
          "output_type": "stream",
          "text": [
            "Time taken to translate 0.06845927238464355 seconds\n",
            "source = ['ein', 'typ', 'arbeitet', 'an', 'einem', 'gebäude', '.']\n",
            "----------------------------------------------------------------------------------------------------\n",
            "target = ['a', 'guy', 'works', 'on', 'a', 'building', '.']\n",
            "----------------------------------------------------------------------------------------------------\n",
            "translation = ['a', 'guy', 'working', 'on', 'a', 'building', '.']\n",
            "----------------------------------------------------------------------------------------------------\n"
          ],
          "name": "stdout"
        },
        {
          "output_type": "display_data",
          "data": {
            "image/png": "[encoded data removed]",
            "text/plain": [
              "<Figure size 1080x1800 with 8 Axes>"
            ]
          },
          "metadata": {
            "tags": [],
            "needs_background": "light"
          }
        }
      ]
    },
    {
      "cell_type": "code",
      "metadata": {
        "colab": {
          "base_uri": "https://localhost:8080/",
          "height": 1000
        },
        "id": "DydaXRryfBLo",
        "outputId": "ceb53776-1a44-4552-f85e-bd5f4240506e"
      },
      "source": [
        "#Try 4:Test_data\n",
        "example_idx = 21\n",
        "\n",
        "src = vars(test_data.examples[example_idx])['src']\n",
        "trg = vars(test_data.examples[example_idx])['trg']\n",
        "\n",
        "\n",
        "translation, attention =  translate_sentence(src,\n",
        "                                            source_process_pipeline,\n",
        "                                            target_process_pipeline,\n",
        "                                            spacy_german,\n",
        "                                            transformer_model,device,\n",
        "                                            max_length = 50,verbose = True)\n",
        "print(f'source = {src}')\n",
        "print('-'*100)\n",
        "print(f'target = {trg}')\n",
        "print('-'*100)\n",
        "print(f'translation = {translation}')\n",
        "print('-'*100)\n",
        "\n",
        "display_attention(src, translation, attention,n_heads = NUM_DECODER_ATTN_HEADS)"
      ],
      "execution_count": 37,
      "outputs": [
        {
          "output_type": "stream",
          "text": [
            "Time taken to translate 0.11145639419555664 seconds\n",
            "source = ['eine', 'teenagerin', 'spielt', 'bei', 'einem', 'spiel', 'trompete', 'auf', 'dem', 'feld', '.']\n",
            "----------------------------------------------------------------------------------------------------\n",
            "target = ['a', 'teenager', 'plays', 'her', 'trumpet', 'on', 'the', 'field', 'at', 'a', 'game', '.']\n",
            "----------------------------------------------------------------------------------------------------\n",
            "translation = ['a', 'teenage', 'girl', 'is', 'playing', 'a', 'trumpet', 'in', 'a', 'field', '.']\n",
            "----------------------------------------------------------------------------------------------------\n"
          ],
          "name": "stdout"
        },
        {
          "output_type": "display_data",
          "data": {
            "image/png": "[encoded data removed]",
            "text/plain": [
              "<Figure size 1080x1800 with 8 Axes>"
            ]
          },
          "metadata": {
            "tags": [],
            "needs_background": "light"
          }
        }
      ]
    },
    {
      "cell_type": "markdown",
      "metadata": {
        "id": "8VTSE3bjgbuv"
      },
      "source": [
        "BLEU Score"
      ]
    },
    {
      "cell_type": "code",
      "metadata": {
        "id": "K-lUGeNbgHiR"
      },
      "source": [
        "#The Bilingual Evaluation Understudy Score, or BLEU for short, is a metric for evaluating a generated sentence to a reference sentence. \n",
        "#A perfect match results in a score of 100.0, whereas a perfect mismatch results in a score of 0.0.\n",
        "\n",
        "from torchtext.data.metrics import bleu_score\n",
        "\n",
        "def calculate_bleu(data,source_field, target_field,source_tokenizer,\n",
        "                       transformer_model,device, max_len = 50):\n",
        "    \n",
        "    transformer_model.eval()\n",
        "    target_tokens = []\n",
        "    predicted_tokens = []\n",
        "    \n",
        "    start = time()\n",
        "    with torch.no_grad():\n",
        "        \n",
        "        for item in tqdm(data):\n",
        "            \n",
        "            source = vars(item)['src']\n",
        "            target = vars(item)['trg']\n",
        "                \n",
        "            \n",
        "            predicted_sentence,attention = translate_sentence(source,\n",
        "                                                   source_field,target_field,\n",
        "                                                   source_tokenizer,\n",
        "                                                   transformer_model,device,\n",
        "                                                   max_length = 50,verbose = False)\n",
        "                \n",
        "            predicted_tokens.append(predicted_sentence)\n",
        "            target_tokens.append([target])\n",
        "            \n",
        "\n",
        "    return bleu_score(predicted_tokens, target_tokens)"
      ],
      "execution_count": 38,
      "outputs": []
    },
    {
      "cell_type": "code",
      "metadata": {
        "colab": {
          "base_uri": "https://localhost:8080/",
          "height": 83,
          "referenced_widgets": [
            "358b2910242b48ebbee7c9f6582ed12d",
            "e363a3d841fc47bc8fcde835523f0c55",
            "2b9c52b32659460599aece4eed051066",
            "38f8027b0dd549af8eeb7cab1bd284e3",
            "c3d65da8b22649a6b99c629e2bf7de09",
            "7813c42084c34a64a7f69f9d656eff87",
            "70855c660f2a4ef4a532eb1403bcfe16",
            "87df33145a2b4a149b8f0ad6340948fe"
          ]
        },
        "id": "0R3ro4jYhUi-",
        "outputId": "e13cbfb0-88be-4983-8b5a-693766b9b1bc"
      },
      "source": [
        "bleu_score = calculate_bleu(test_data,source_process_pipeline,\n",
        "                            target_process_pipeline,spacy_german,transformer_model,device, max_len = 50)\n",
        "\n",
        "\n",
        "print(f'BLEU score on Test Data = {bleu_score*100}')\n",
        "#We acheived a perplexity of ~35 , which quite good."
      ],
      "execution_count": 39,
      "outputs": [
        {
          "output_type": "display_data",
          "data": {
            "application/vnd.jupyter.widget-view+json": {
              "model_id": "358b2910242b48ebbee7c9f6582ed12d",
              "version_minor": 0,
              "version_major": 2
            },
            "text/plain": [
              "HBox(children=(FloatProgress(value=0.0, max=1000.0), HTML(value='')))"
            ]
          },
          "metadata": {
            "tags": []
          }
        },
        {
          "output_type": "stream",
          "text": [
            "\n",
            "BLEU score on Test Data = 33.229780197143555\n"
          ],
          "name": "stdout"
        }
      ]
    }
  ]
}